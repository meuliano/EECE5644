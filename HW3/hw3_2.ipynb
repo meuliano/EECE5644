{
 "cells": [
  {
   "cell_type": "code",
   "execution_count": 94,
   "metadata": {},
   "outputs": [],
   "source": [
    "# %%\n",
    "import numpy as np\n",
    "import matplotlib.pyplot as plt\n",
    "from scipy.stats import multivariate_normal\n",
    "from sys import float_info # Threshold smallest positive floating value\n",
    "from sklearn.model_selection import cross_val_score, KFold\n",
    "from sklearn.metrics import confusion_matrix\n",
    "\n",
    "import torch\n",
    "import torch.nn as nn\n",
    "\n",
    "# Set seed to generate reproducible \"pseudo-randomness\" (handles scipy's \"randomness\" too)\n",
    "np.random.seed(4)\n"
   ]
  },
  {
   "cell_type": "code",
   "execution_count": 95,
   "metadata": {},
   "outputs": [],
   "source": [
    "n = 10\n",
    "N_train = 50\n",
    "N_test = 1000"
   ]
  },
  {
   "cell_type": "code",
   "execution_count": 96,
   "metadata": {},
   "outputs": [],
   "source": [
    "# Generate Data\n",
    "# Define pdfs for random variables\n",
    "#np.random.seed(4)\n",
    "# Draw N_train iid samples of n-dimensional samples of x\n",
    "a = np.array([np.random.rand(n)]) # arbitrary non-zero n-dim vector a\n",
    "x_mu = np.random.rand(n) # arbitrary non-zero mean\n",
    "sigma = np.eye(n) + 0.2*np.random.rand(n,n) # arbitrary non-diagonal covariance\n",
    "x_sigma = sigma.T * sigma # Force positive Semi-definite\n",
    "\n",
    "# Define Alphas for parametric sweep\n",
    "alpha = 1\n",
    "# alpha_sweep = 10^(-3:0.5:3)*trace(sigma)\n",
    "# alpha_plot_ind = round(1:len(alpha_sweep)/(7:len(alpha_sweep)))\n",
    "# \n",
    "# Draw N_train iid samples of scalar random variable v - 0-mean, alpha-I covariance \n",
    "z_mu = np.zeros(n)\n",
    "z_sigma = alpha*np.eye(n)\n",
    "\n",
    "# Alpha Sweep Loop\n",
    "# for alpha_ind in range(len(alpha_sweep)):\n",
    "# \tz_sigma_sweep = alpha_sweep(alpha_ind)*eye(n)\n",
    "\n",
    "# Draw N_train iid samples of random variable v from 0-mean, unit-variance\n",
    "v_mu = 0\n",
    "v_sigma = 1\n",
    "\n",
    "\n",
    "# GENERATE DATA\n",
    "# Training Data\n",
    "x_train = multivariate_normal.rvs(x_mu,x_sigma,N_train)\n",
    "z_train = multivariate_normal.rvs(z_mu,z_sigma,N_train)\n",
    "v_train = v_mu+v_sigma*np.random.randn(N_train,1)\n",
    "\n",
    "# This is the training dataset\n",
    "y_train = (a.dot(x_train.T+z_train.T)).T + v_train\n",
    "          \n",
    "\n",
    "# Test Data\n",
    "x_test = multivariate_normal.rvs(x_mu,x_sigma,N_test)\n",
    "z_test = multivariate_normal.rvs(z_mu,z_sigma,N_test)\n",
    "v_test = v_mu+v_sigma*np.random.randn(N_test,1)\n",
    "\n",
    "y_test = (a.dot(x_test.T+z_test.T)).T + v_test\n"
   ]
  },
  {
   "cell_type": "code",
   "execution_count": null,
   "metadata": {},
   "outputs": [],
   "source": []
  },
  {
   "cell_type": "code",
   "execution_count": 97,
   "metadata": {},
   "outputs": [],
   "source": [
    "def mapParamEstimate(x,y,param,sigma):\n",
    "    # (xT * X + gamma * I)^-1 * xT * y\n",
    "    x_tilde = np.vstack((np.ones(x.shape[0]), x.T))\n",
    "    w_hat = np.linalg.inv(x_tilde.dot(x_tilde.T) + sigma**2/param*np.eye(x_tilde.shape[0])).dot(x_tilde).dot(y)\n",
    "    return w_hat\n",
    "\n",
    "def meanSquaredError(w, x, y):\n",
    "    N = len(y)\n",
    "    x_tilde = np.vstack((np.ones(x.shape[0]), x.T))\n",
    "    error = (y-x_tilde.T.dot(w))**2\n",
    "    mse = np.sum(error)/N\n",
    "    return mse"
   ]
  },
  {
   "cell_type": "code",
   "execution_count": 98,
   "metadata": {},
   "outputs": [],
   "source": [
    "# Setup K fold cross-validation to find optimal hyperparam Beta\n",
    "k = 5\n",
    "beta = 1 #np.logspace(-4,3)\n",
    "\n",
    "# x_a = np.vstack((np.ones(x_train.shape[0]), x_train.T))\n",
    "# w_hat = np.linalg.inv(x_a.dot(x_a.T) + v_sigma**2/beta*np.eye(x_a.shape[0])).dot(x_a).dot(y_train)\n",
    "\n",
    "w_hat1 = mapParamEstimate(x_train,y_train,beta,v_sigma)"
   ]
  },
  {
   "cell_type": "code",
   "execution_count": 99,
   "metadata": {},
   "outputs": [
    {
     "name": "stdout",
     "output_type": "stream",
     "text": [
      "Mean Squared Error - MAP Estimator:\n",
      " [19.79627673 18.66808056 15.97030809 11.67505105  8.02802263  6.45213126\n",
      "  6.28652132  6.5113357   6.66081364  6.72035247  6.7406294   6.74719482\n",
      "  6.7492866   6.74994965  6.75015949  6.75022586  6.75024685]\n",
      "condition:  9.466270283143578\n"
     ]
    }
   ],
   "source": [
    "# Use MAP Parameter estimation to determine the optimal weights for this model\n",
    "betas = np.geomspace(10**-4,10**4,17)\n",
    "w_maps = np.array([mapParamEstimate(x_train,y_train,beta,v_sigma) for beta in betas])\n",
    "mse_map = np.array([meanSquaredError(w_map, x_test, y_test) for w_map in w_maps])\n",
    "print(\"Mean Squared Error - MAP Estimator:\\n\",mse_map)\n",
    "# print(\"Gamma Values:\\n\",gammas)\n",
    "print(\"condition: \", np.linalg.cond(x_train.T.dot(x_train)))"
   ]
  },
  {
   "cell_type": "code",
   "execution_count": 146,
   "metadata": {},
   "outputs": [],
   "source": [
    "# Define Alphas for parametric sweep\n",
    "alpha = 1\n",
    "alpha_sweep = np.logspace(-3,3)*np.trace(x_sigma)/n\n",
    "# alpha_plot_ind = round(1:len(alpha_sweep)/(7:len(alpha_sweep)))\n",
    "# \n",
    "# Draw N_train iid samples of scalar random variable v - 0-mean, alpha-I covariance \n",
    "z_mu = np.zeros(n)\n",
    "z_sigma = alpha*np.eye(n)\n",
    "z_train = multivariate_normal.rvs(z_mu,z_sigma,N_train)\n",
    "\n",
    "\n",
    "y_train_sweep = []\n",
    "# Alpha Sweep Loop\n",
    "for alpha_ind in range(len(alpha_sweep)):\n",
    "    z_sigma_sweep = alpha_sweep[alpha_ind]*np.eye(n)\n",
    "    # z_sigmas.append(z_sigma_sweep)\n",
    "    z_trains = multivariate_normal.rvs(z_mu,z_sigma_sweep,N_train)\n",
    "    y_train_sweep.append((a.dot(x_train.T+z_trains.T)).T + v_train)\n",
    "\n",
    "# This is the training dataset\n"
   ]
  },
  {
   "cell_type": "code",
   "execution_count": 150,
   "metadata": {},
   "outputs": [
    {
     "name": "stdout",
     "output_type": "stream",
     "text": [
      "Optimal Beta =  0.7196856730011514\n",
      "Optimal Beta =  1000.0\n",
      "Optimal Beta =  0.7196856730011514\n",
      "Optimal Beta =  0.7196856730011514\n",
      "Optimal Beta =  0.5179474679231207\n",
      "Optimal Beta =  3.727593720314938\n",
      "Optimal Beta =  0.5179474679231207\n",
      "Optimal Beta =  1.0\n",
      "Optimal Beta =  0.3727593720314938\n",
      "Optimal Beta =  1.389495494373136\n",
      "Optimal Beta =  0.5179474679231207\n",
      "Optimal Beta =  0.2682695795279725\n",
      "Optimal Beta =  0.7196856730011514\n",
      "Optimal Beta =  0.3727593720314938\n",
      "Optimal Beta =  0.2682695795279725\n",
      "Optimal Beta =  0.7196856730011514\n",
      "Optimal Beta =  0.2682695795279725\n",
      "Optimal Beta =  0.19306977288832497\n",
      "Optimal Beta =  0.2682695795279725\n",
      "Optimal Beta =  0.13894954943731375\n",
      "Optimal Beta =  0.13894954943731375\n",
      "Optimal Beta =  0.07196856730011514\n",
      "Optimal Beta =  0.1\n",
      "Optimal Beta =  0.07196856730011514\n",
      "Optimal Beta =  0.13894954943731375\n",
      "Optimal Beta =  1.389495494373136\n",
      "Optimal Beta =  0.019306977288832496\n",
      "Optimal Beta =  0.07196856730011514\n",
      "Optimal Beta =  0.2682695795279725\n",
      "Optimal Beta =  0.019306977288832496\n",
      "Optimal Beta =  0.01\n",
      "Optimal Beta =  0.007196856730011514\n",
      "Optimal Beta =  0.7196856730011514\n",
      "Optimal Beta =  0.01\n",
      "Optimal Beta =  0.003727593720314938\n",
      "Optimal Beta =  0.0001\n",
      "Optimal Beta =  0.01\n",
      "Optimal Beta =  0.0013894954943731374\n",
      "Optimal Beta =  0.005179474679231213\n",
      "Optimal Beta =  0.007196856730011514\n",
      "Optimal Beta =  0.007196856730011514\n",
      "Optimal Beta =  0.01\n",
      "Optimal Beta =  0.0007196856730011522\n",
      "Optimal Beta =  0.0005179474679231213\n",
      "Optimal Beta =  0.0001\n",
      "Optimal Beta =  0.007196856730011514\n",
      "Optimal Beta =  0.0001\n",
      "Optimal Beta =  0.0001\n",
      "Optimal Beta =  0.001\n",
      "Optimal Beta =  0.0001\n"
     ]
    },
    {
     "data": {
      "image/png": "[encoded data removed]",
      "text/plain": [
       "<Figure size 432x288 with 1 Axes>"
      ]
     },
     "metadata": {
      "needs_background": "light"
     },
     "output_type": "display_data"
    }
   ],
   "source": [
    "betas = np.logspace(-4,3) # 50 Beta vals to try from 1e-4 to 1e3 \n",
    "cv = KFold(n_splits=5, shuffle=True) # Setup KFold with 5 folds\n",
    "mse_map = np.empty((50, 5)) # Allocate space for matrix of MSEs\n",
    "\n",
    "plt.figure()\n",
    "alpha_ind = 0\n",
    "# Perform Cross-Validation\n",
    "for y_train in y_train_sweep:\n",
    "    # y_train = (a.dot(x_train.T+z_train.T)).T + v_train\n",
    "    for fold, (train_indices, valid_indices) in enumerate(cv.split(x_train)):\n",
    "        # Extract the training and validation sets from the K-fold split\n",
    "        X_train_k = x_train[train_indices]\n",
    "        y_train_k = y_train[train_indices]\n",
    "        X_valid_k = x_train[valid_indices]\n",
    "        y_valid_k = y_train[valid_indices]    \n",
    "\n",
    "        # Find Parameter Vector using MAP equation for each fold and for each value of beta\n",
    "        w_maps = np.array([mapParamEstimate(X_train_k,y_train_k,beta,v_sigma) for beta in betas])\n",
    "        # Find the MSE for each generated param vector using validation set\n",
    "        mse_map[:,fold] = np.array([meanSquaredError(w_map, X_valid_k, y_valid_k) for w_map in w_maps])\n",
    "\n",
    "    # Average across each fold - results in MSE averaged estimate for each Beta value\n",
    "    avgs = [np.average(mse_map[i,:]) for i in range(mse_map.shape[0])]\n",
    "\n",
    "    beta_opt = betas[avgs.index(np.min(avgs))]\n",
    "    print(\"Optimal Beta = \", beta_opt)\n",
    "    alpha_val = alpha_sweep[alpha_ind]\n",
    "    alpha_ind = alpha_ind + 1\n",
    "\n",
    "\n",
    "    # TURN THIS INTO TWO FIGURES!\n",
    "    # plt.scatter(beta_opt,alpha_val)\n",
    "\n",
    "    plt.plot(betas,avgs)\n",
    "plt.xscale('log')\n",
    "plt.yscale('log')\n",
    "plt.xlabel(\"Beta\")\n",
    "plt.ylabel(\"MSE\")\n",
    "plt.show()"
   ]
  },
  {
   "cell_type": "code",
   "execution_count": 119,
   "metadata": {},
   "outputs": [
    {
     "data": {
      "text/plain": [
       "0.1"
      ]
     },
     "execution_count": 119,
     "metadata": {},
     "output_type": "execute_result"
    }
   ],
   "source": [
    "betas[avgs.index(np.min(avgs))]"
   ]
  },
  {
   "cell_type": "code",
   "execution_count": null,
   "metadata": {},
   "outputs": [],
   "source": []
  },
  {
   "cell_type": "code",
   "execution_count": 102,
   "metadata": {},
   "outputs": [],
   "source": [
    "def model_order_selection(X_train, y_train, folds, poly_deg):\n",
    "\n",
    "  C = len(np.unique(y_train))\n",
    "\n",
    "  cv = KFold(n_splits=folds, shuffle=True)\n",
    "\n",
    "  # Polynomial degrees (\"hyperparameters\") to evaluate\n",
    "  degs = np.arange(1, poly_deg, 1)\n",
    "  n_degs = np.max(degs)\n",
    "\n",
    "  # scores = cross_val_score(estimator=trained_model, X=X_train, y=y_train, cv=cv, scoring='accuracy')\n",
    "  mse_valid_mk = np.empty((n_degs, folds)) \n",
    "  mse_train_mk = np.empty((n_degs, folds)) # Indexed by model m, data partition k\n",
    "  truelist=np.empty((n_degs,folds))\n",
    "  all_models = []\n",
    "\n",
    "  # \n",
    "  for deg in degs:\n",
    "    k = 0\n",
    "\n",
    "    # split training set for 10-fold cross validation\n",
    "    # for each of the 10 smaller sets, train model for 1-10 perceptrons\n",
    "    for fold, (train_indices, valid_indices) in enumerate(cv.split(X_train)):\n",
    "      # Extract the training and validation sets from the K-fold split\n",
    "      X_train_k = X_train[train_indices]\n",
    "      y_train_k = y_train[train_indices]\n",
    "      X_valid_k = X_train[valid_indices]\n",
    "      y_valid_k = y_train[valid_indices]    \n",
    "      \n",
    "\n",
    "      w_maps = np.array([mapParamEstimate(X_train_k,y_train_k,beta,v_sigma) for beta in betas])\n",
    "      mse_map = np.array([meanSquaredError(w_map, x_test, y_test) for w_map in w_maps])\n",
    "\n",
    "  hit_rate_train = np.mean(truelist, axis=1)\n",
    "\n",
    "  # STEP 3: Compute the average MSE loss for that model (based in this case on degree d)\n",
    "  mse_train_m = np.mean(mse_train_mk, axis=1) # Model average CV loss over folds\n",
    "  mse_valid_m = np.mean(mse_valid_mk, axis=1) \n",
    "\n",
    "\n",
    "  # +1 as the index starts from 0 while the degrees start from 1\n",
    "  optimal_d = np.argmin(mse_valid_m) + 1\n",
    "\n",
    "  optimal_model = all_models[optimal_d-1]\n",
    "  #print(\"The model selected to best fit the data without overfitting is: d={}\".format(optimal_d))\n",
    "  optimal_hit = hit_rate_train[optimal_d-1]\n",
    "  print(\"Perceptrons: \", optimal_d, \"  Hit Rate: \",optimal_hit)\n",
    "\n",
    "  return optimal_d, mse_valid_m, hit_rate_train, optimal_model"
   ]
  },
  {
   "cell_type": "code",
   "execution_count": null,
   "metadata": {},
   "outputs": [],
   "source": []
  }
 ],
 "metadata": {
  "interpreter": {
   "hash": "17b4c01959b763961e65029bfd8cfa288ed8d0492d779c607a82e02daf2d74ec"
  },
  "kernelspec": {
   "display_name": "Python 3.9.12 ('base')",
   "language": "python",
   "name": "python3"
  },
  "language_info": {
   "codemirror_mode": {
    "name": "ipython",
    "version": 3
   },
   "file_extension": ".py",
   "mimetype": "text/x-python",
   "name": "python",
   "nbconvert_exporter": "python",
   "pygments_lexer": "ipython3",
   "version": "3.9.12"
  },
  "orig_nbformat": 4
 },
 "nbformat": 4,
 "nbformat_minor": 2
}
