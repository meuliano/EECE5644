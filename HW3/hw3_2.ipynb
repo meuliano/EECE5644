{
 "cells": [
  {
   "cell_type": "code",
   "execution_count": 294,
   "metadata": {},
   "outputs": [],
   "source": [
    "# %%\n",
    "import numpy as np\n",
    "import matplotlib.pyplot as plt\n",
    "from scipy.stats import multivariate_normal\n",
    "from sys import float_info # Threshold smallest positive floating value\n",
    "from sklearn.model_selection import cross_val_score, KFold\n",
    "from sklearn.metrics import confusion_matrix\n",
    "\n",
    "import torch\n",
    "import torch.nn as nn\n",
    "\n",
    "# Set seed to generate reproducible \"pseudo-randomness\" (handles scipy's \"randomness\" too)\n",
    "np.random.seed(4)\n"
   ]
  },
  {
   "cell_type": "code",
   "execution_count": 295,
   "metadata": {},
   "outputs": [],
   "source": [
    "n = 10\n",
    "N_train = 50\n",
    "N_test = 1000"
   ]
  },
  {
   "cell_type": "code",
   "execution_count": 296,
   "metadata": {},
   "outputs": [],
   "source": [
    "# Generate Data\n",
    "# Define pdfs for random variables\n",
    "#np.random.seed(4)\n",
    "# Draw N_train iid samples of n-dimensional samples of x\n",
    "a = np.array([np.random.rand(n)]) # arbitrary non-zero n-dim vector a\n",
    "x_mu = np.random.rand(n) # arbitrary non-zero mean\n",
    "sigma = np.eye(n) + 0.2*np.random.rand(n,n) # arbitrary non-diagonal covariance\n",
    "x_sigma = sigma.T * sigma # Force positive Semi-definite\n",
    "\n",
    "# Define Alphas for parametric sweep\n",
    "alpha = 1\n",
    "# alpha_sweep = 10^(-3:0.5:3)*trace(sigma)\n",
    "# alpha_plot_ind = round(1:len(alpha_sweep)/(7:len(alpha_sweep)))\n",
    "# \n",
    "# Draw N_train iid samples of scalar random variable v - 0-mean, alpha-I covariance \n",
    "z_mu = np.zeros(n)\n",
    "z_sigma = alpha*np.eye(n)\n",
    "\n",
    "# Alpha Sweep Loop\n",
    "# for alpha_ind in range(len(alpha_sweep)):\n",
    "# \tz_sigma_sweep = alpha_sweep(alpha_ind)*eye(n)\n",
    "\n",
    "# Draw N_train iid samples of random variable v from 0-mean, unit-variance\n",
    "v_mu = 0\n",
    "v_sigma = 1\n",
    "\n",
    "\n",
    "# GENERATE DATA\n",
    "# Training Data\n",
    "x_train = multivariate_normal.rvs(x_mu,x_sigma,N_train)\n",
    "z_train = multivariate_normal.rvs(z_mu,z_sigma,N_train)\n",
    "v_train = v_mu+v_sigma*np.random.randn(N_train,1)\n",
    "\n",
    "# This is the training dataset\n",
    "y_train = (a.dot(x_train.T+z_train.T)).T + v_train\n",
    "          \n",
    "\n",
    "# Test Data\n",
    "x_test = multivariate_normal.rvs(x_mu,x_sigma,N_test)\n",
    "z_test = multivariate_normal.rvs(z_mu,z_sigma,N_test)\n",
    "v_test = v_mu+v_sigma*np.random.randn(N_test,1)\n",
    "\n",
    "y_test = (a.dot(x_test.T+z_test.T)).T + v_test\n"
   ]
  },
  {
   "cell_type": "code",
   "execution_count": null,
   "metadata": {},
   "outputs": [],
   "source": []
  },
  {
   "cell_type": "code",
   "execution_count": 297,
   "metadata": {},
   "outputs": [],
   "source": [
    "def mapParamEstimate(x,y,param,sigma):\n",
    "    # (xT * X + gamma * I)^-1 * xT * y\n",
    "    x_tilde = np.vstack((np.ones(x.shape[0]), x.T))\n",
    "    w_hat = np.linalg.inv(x_tilde.dot(x_tilde.T) + sigma**2/param*np.eye(x_tilde.shape[0])).dot(x_tilde).dot(y)\n",
    "    return w_hat\n",
    "\n",
    "def meanSquaredError(w, x, y):\n",
    "    N = len(y)\n",
    "    x_tilde = np.vstack((np.ones(x.shape[0]), x.T))\n",
    "    error = (y-x_tilde.T.dot(w))**2\n",
    "    mse = np.sum(error)/N\n",
    "    return mse"
   ]
  },
  {
   "cell_type": "code",
   "execution_count": 298,
   "metadata": {},
   "outputs": [],
   "source": [
    "# Setup K fold cross-validation to find optimal hyperparam Beta\n",
    "k = 5\n",
    "beta = 1 #np.logspace(-4,3)\n",
    "\n",
    "# x_a = np.vstack((np.ones(x_train.shape[0]), x_train.T))\n",
    "# w_hat = np.linalg.inv(x_a.dot(x_a.T) + v_sigma**2/beta*np.eye(x_a.shape[0])).dot(x_a).dot(y_train)\n",
    "\n",
    "w_hat1 = mapParamEstimate(x_train,y_train,beta,v_sigma)"
   ]
  },
  {
   "cell_type": "code",
   "execution_count": 299,
   "metadata": {},
   "outputs": [
    {
     "name": "stdout",
     "output_type": "stream",
     "text": [
      "Mean Squared Error - MAP Estimator:\n",
      " [19.79627673 18.66808056 15.97030809 11.67505105  8.02802263  6.45213126\n",
      "  6.28652132  6.5113357   6.66081364  6.72035247  6.7406294   6.74719482\n",
      "  6.7492866   6.74994965  6.75015949  6.75022586  6.75024685]\n",
      "condition:  9.466270283143578\n"
     ]
    }
   ],
   "source": [
    "# Use MAP Parameter estimation to determine the optimal weights for this model\n",
    "betas = np.geomspace(10**-4,10**4,17)\n",
    "w_maps = np.array([mapParamEstimate(x_train,y_train,beta,v_sigma) for beta in betas])\n",
    "mse_map = np.array([meanSquaredError(w_map, x_test, y_test) for w_map in w_maps])\n",
    "print(\"Mean Squared Error - MAP Estimator:\\n\",mse_map)\n",
    "# print(\"Gamma Values:\\n\",gammas)\n",
    "print(\"condition: \", np.linalg.cond(x_train.T.dot(x_train)))"
   ]
  },
  {
   "cell_type": "code",
   "execution_count": 300,
   "metadata": {},
   "outputs": [],
   "source": [
    "# Define Alphas for parametric sweep\n",
    "alpha = 1\n",
    "alpha_sweep = np.logspace(-3,3)*np.trace(x_sigma)/n\n",
    "# alpha_plot_ind = round(1:len(alpha_sweep)/(7:len(alpha_sweep)))\n",
    "# \n",
    "# Draw N_train iid samples of scalar random variable v - 0-mean, alpha-I covariance \n",
    "z_mu = np.zeros(n)\n",
    "z_sigma = alpha*np.eye(n)\n",
    "z_train = multivariate_normal.rvs(z_mu,z_sigma,N_train)\n",
    "\n",
    "alpha_sweep = [0.01,0.1,1,10,100]\n",
    "# alpha_sweep = [1]\n",
    "y_train_sweep = []\n",
    "# Alpha Sweep Loop\n",
    "for alpha_ind in range(len(alpha_sweep)):\n",
    "    z_sigma_sweep = alpha_sweep[alpha_ind]*np.eye(n)\n",
    "    # z_sigmas.append(z_sigma_sweep)\n",
    "    z_trains = multivariate_normal.rvs(z_mu,z_sigma_sweep,N_train)\n",
    "    y_train_sweep.append((a.dot(x_train.T+z_trains.T)).T + v_train)\n",
    "\n",
    "# This is the training dataset\n"
   ]
  },
  {
   "cell_type": "code",
   "execution_count": 301,
   "metadata": {},
   "outputs": [],
   "source": [
    "# # Negative Log Likelihood (NLL) loss\n",
    "# def ll_loss(parameters, X, y, sigma=1):\n",
    "#     mu_pred = X.dot(parameters)\n",
    "    \n",
    "#     # Compute log-likelihood function, setting mu=0 as we're estimating it\n",
    "#     log_lld = np.sum(multivariate_normal.pdf(y - mu_pred, 0, sigma))\n",
    "    \n",
    "#     # Return NLL\n",
    "#     return log_lld\n",
    "\n",
    "# # Adding PSD constraints on sigma\n",
    "# # def constraints(parameters):\n",
    "# #     sigma = parameters[2]\n",
    "# #     return sigma\n",
    "\n",
    "# # cons = {\n",
    "# #     'type': 'ineq',\n",
    "# #     'fun': constraints\n",
    "# # }\n",
    "\n",
    "# # Minimize NLL instead, assuming fixed variance of 1\n",
    "# sigma = 1\n",
    "# mle_model = minimize(nll_loss, theta0, args=(X, y, sigma), tol=1e-6)#, constraints=cons)"
   ]
  },
  {
   "cell_type": "code",
   "execution_count": 302,
   "metadata": {},
   "outputs": [
    {
     "name": "stdout",
     "output_type": "stream",
     "text": [
      "Optimal Beta =  1.0\n",
      "Optimal Beta =  0.19306977288832497\n",
      "Optimal Beta =  0.05179474679231207\n",
      "Optimal Beta =  0.01\n",
      "Optimal Beta =  0.005179474679231213\n"
     ]
    },
    {
     "data": {
      "image/png": "[encoded data removed]",
      "text/plain": [
       "<Figure size 432x288 with 1 Axes>"
      ]
     },
     "metadata": {
      "needs_background": "light"
     },
     "output_type": "display_data"
    }
   ],
   "source": [
    "betas = np.logspace(-4,3) # 50 Beta vals to try from 1e-4 to 1e3 \n",
    "cv = KFold(n_splits=5, shuffle=True) # Setup KFold with 5 folds\n",
    "mse_map = np.empty((50, 5)) # Allocate space for matrix of MSEs\n",
    "\n",
    "plt.figure()\n",
    "alpha_ind = 0\n",
    "beta_opts = []\n",
    "# Perform Cross-Validation\n",
    "for y_train in y_train_sweep:\n",
    "    # y_train = (a.dot(x_train.T+z_train.T)).T + v_train\n",
    "\n",
    "    for fold, (train_indices, valid_indices) in enumerate(cv.split(x_train)):\n",
    "        # Extract the training and validation sets from the K-fold split\n",
    "        X_train_k = x_train[train_indices]\n",
    "        y_train_k = y_train[train_indices]\n",
    "        X_valid_k = x_train[valid_indices]\n",
    "        y_valid_k = y_train[valid_indices]    \n",
    "\n",
    "        # Find Parameter Vector using MAP equation for each fold and for each value of beta\n",
    "        w_maps = np.array([mapParamEstimate(X_train_k,y_train_k,beta,v_sigma) for beta in betas])\n",
    "        # Find the MSE for each generated param vector using validation set\n",
    "        mse_map[:,fold] = np.array([meanSquaredError(w_map, X_valid_k, y_valid_k) for w_map in w_maps])\n",
    "\n",
    "    # Average across each fold - results in MSE averaged estimate for each Beta value\n",
    "    avgs = [np.average(mse_map[i,:]) for i in range(mse_map.shape[0])]\n",
    "\n",
    "    beta_opt = betas[avgs.index(np.min(avgs))]\n",
    "    beta_opts.append(beta_opt)\n",
    "    print(\"Optimal Beta = \", beta_opt)\n",
    "    alpha_val = alpha_sweep[alpha_ind]\n",
    "    \n",
    "\n",
    "\n",
    "    # TURN THIS INTO TWO FIGURES!\n",
    "    # plt.scatter(beta_opt,alpha_val)\n",
    "    plt.scatter(beta_opt,np.min(avgs))\n",
    "    plt.plot(betas,avgs,label=r\"$\\alpha$ = {}\".format(alpha_val))\n",
    "    alpha_ind = alpha_ind + 1\n",
    "\n",
    "plt.legend(loc='best', fancybox=True, framealpha=0.5)\n",
    "plt.title(\"Beta Performance\")\n",
    "plt.xscale('log')\n",
    "plt.yscale('log')\n",
    "plt.xlabel(\"Beta\")\n",
    "plt.ylabel(\"MSE\")\n",
    "plt.show()"
   ]
  },
  {
   "cell_type": "code",
   "execution_count": 303,
   "metadata": {},
   "outputs": [
    {
     "data": {
      "text/plain": [
       "Text(0, 0.5, 'Alpha')"
      ]
     },
     "execution_count": 303,
     "metadata": {},
     "output_type": "execute_result"
    },
    {
     "data": {
      "image/png": "[encoded data removed]",
      "text/plain": [
       "<Figure size 432x288 with 1 Axes>"
      ]
     },
     "metadata": {
      "needs_background": "light"
     },
     "output_type": "display_data"
    }
   ],
   "source": [
    "plt.scatter(beta_opts,alpha_sweep)\n",
    "plt.title(\"Beta and Alpha relationship\")\n",
    "plt.xscale('log')\n",
    "plt.yscale('log')\n",
    "plt.xlabel(\"Beta\")\n",
    "plt.ylabel(\"Alpha\")"
   ]
  },
  {
   "cell_type": "code",
   "execution_count": 304,
   "metadata": {},
   "outputs": [
    {
     "data": {
      "image/png": "[encoded data removed]",
      "text/plain": [
       "<Figure size 432x288 with 1 Axes>"
      ]
     },
     "metadata": {
      "needs_background": "light"
     },
     "output_type": "display_data"
    }
   ],
   "source": [
    "# Now we have trained optimal weights for sweeps of Beta and Alpha\n",
    "# Use the entire training dataset to optimize the model parameters using MAP using best hyperparams\n",
    "\n",
    "\n",
    "# Find Parameter Vector using MAP equation for each fold and for each value of beta\n",
    "w_maps_train = np.array([mapParamEstimate(x_train,y_train_sweep[i],beta_opts[i],v_sigma) for i in range(len(beta_opts))])\n",
    "# Find the MSE for each generated param vector using validation set\n",
    "mse_map_train = np.array([meanSquaredError(w_maps_train[i], x_train, y_train_sweep[i]) for i in range(w_maps_train.shape[0])])\n",
    "# -2 times log likelihood of TEST DATA ?????\n",
    "\n",
    "plt.scatter(alpha_sweep,mse_map_train)\n",
    "plt.title(\"Increasing Noise (alpha) using optimal Beta on Training Set\")\n",
    "plt.xscale('log')\n",
    "plt.yscale('log')\n",
    "plt.xlabel(\"Alpha\")\n",
    "plt.ylabel(\"MSE\")\n",
    "plt.show()\n"
   ]
  },
  {
   "cell_type": "code",
   "execution_count": 305,
   "metadata": {},
   "outputs": [
    {
     "data": {
      "image/png": "[encoded data removed]",
      "text/plain": [
       "<Figure size 432x288 with 1 Axes>"
      ]
     },
     "metadata": {
      "needs_background": "light"
     },
     "output_type": "display_data"
    }
   ],
   "source": [
    "mse_map_train = np.array([meanSquaredError(w_map, x_test, y_test) for w_map in w_maps_train])\n",
    "# -2 times log likelihood of TEST DATA ?????\n",
    "\n",
    "plt.scatter(alpha_sweep,mse_map_train)\n",
    "plt.title(\"Increasing Noise (alpha) using optimal Beta on Test Set\")\n",
    "plt.xscale('log')\n",
    "plt.yscale('log')\n",
    "plt.xlabel(\"Alpha\")\n",
    "plt.ylabel(\"MSE\")\n",
    "plt.show()"
   ]
  }
 ],
 "metadata": {
  "interpreter": {
   "hash": "17b4c01959b763961e65029bfd8cfa288ed8d0492d779c607a82e02daf2d74ec"
  },
  "kernelspec": {
   "display_name": "Python 3.9.12 ('base')",
   "language": "python",
   "name": "python3"
  },
  "language_info": {
   "codemirror_mode": {
    "name": "ipython",
    "version": 3
   },
   "file_extension": ".py",
   "mimetype": "text/x-python",
   "name": "python",
   "nbconvert_exporter": "python",
   "pygments_lexer": "ipython3",
   "version": "3.9.12"
  },
  "orig_nbformat": 4
 },
 "nbformat": 4,
 "nbformat_minor": 2
}
