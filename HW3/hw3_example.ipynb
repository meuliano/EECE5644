{
 "cells": [
  {
   "cell_type": "code",
   "execution_count": 2,
   "metadata": {},
   "outputs": [],
   "source": [
    "from sklearn.neural_network import MLPClassifier\n",
    "import numpy as np \n",
    "from numpy.random import default_rng\n",
    "import matplotlib.pyplot as plt\n",
    "import pandas as pd\n",
    "import matplotlib as mpl \n",
    "import math\n",
    "import random\n",
    "from scipy.stats import multivariate_normal\n",
    "import matplotlib.patches as mpatches\n",
    "from sklearn.metrics import confusion_matrix\n",
    "import seaborn as sns\n",
    "from sklearn.model_selection import cross_val_score, KFold\n",
    "from matplotlib.lines import Line2D\n",
    "from matplotlib.patches import Patch\n",
    "from sklearn.naive_bayes import MultinomialNB, GaussianNB\n",
    "from sklearn.preprocessing import MinMaxScaler\n",
    "\n",
    "\n",
    "\n",
    "\n"
   ]
  },
  {
   "cell_type": "code",
   "execution_count": 3,
   "metadata": {},
   "outputs": [],
   "source": [
    "# Generate Data\n",
    "def generate_data(N):\n",
    "    '''\n",
    "    Generate N samples according to a multivariate Gaussian probability density function, \n",
    "    keeping track of the true class labels for each sample. \n",
    "    Parameters\n",
    "    ----------\n",
    "    The mus, covs, and cps of the Gaussian distributions in array form\n",
    "    Returns\n",
    "    -------\n",
    "    samples: numpy.array\n",
    "        The generated sample data\n",
    "    '''\n",
    "    # 4 classes\n",
    "    # p = 0.25 for each class\n",
    "    # 3d gaussian pdf\n",
    "    priors = [0.25, 0.25, 0.25, 0.25]\n",
    "    mu0 = [1,  1,  1]\n",
    "    mu1 = [1, -1,  1]\n",
    "    mu2 = [1, -1, -1]\n",
    "    mu3 = [1,  1, -1]\n",
    "    mus = [mu0,mu1,mu2,mu3]\n",
    "    n=3\n",
    "    mus = np.array([1*np.ones(n), 4*np.ones(n), 6*np.ones(n), 9*np.ones(n)])\n",
    "    cov0 = [[1, 0.5, 0],\n",
    "            [0, 1, 1],\n",
    "            [1, 1, 0]]\n",
    "    cov1 = [[0.5, 0,   1],\n",
    "            [1.2, 1,   0.8],\n",
    "            [1,   0.6, 0]]\n",
    "    cov2 = [[1, 0.5, 1],\n",
    "            [1, 1, 1],\n",
    "            [1, 1, 1]]\n",
    "    cov3 = [[0.5, 0.5, 0.5],\n",
    "            [1.4, 1.2, 0.7],\n",
    "            [0.6, 1.1, 0.5]]\n",
    "    sigmas = [cov0,cov1,cov2,cov3]\n",
    "    sigmas = np.array([2*np.eye(n), 2*np.eye(n), 2*np.eye(n), 2*np.eye(n)])\n",
    "    rng = default_rng()\n",
    "    overall_size = N\n",
    "    priors = np.cumsum(priors)\n",
    "    size0 = 0\n",
    "    size1 = 0\n",
    "    size2 = 0\n",
    "    size3 = 0\n",
    "    for i in range(0, overall_size) :\n",
    "        r = random.random()\n",
    "        if(r < priors[0]):\n",
    "            size0 = size0 + 1\n",
    "        elif(r < priors[1]):\n",
    "            size1 = size1 + 1\n",
    "        elif(r < priors[2]):\n",
    "            size2 = size2 + 1\n",
    "        else:\n",
    "            size3 = size3 + 1\n",
    "\n",
    "    samples0 = rng.multivariate_normal(mean=mus[0], cov=sigmas[0], size=size0)\n",
    "    samples0 = pd.DataFrame(samples0, columns=['x','y','z'])\n",
    "    samples0['True Class Label'] = 0\n",
    "\n",
    "    samples1 = rng.multivariate_normal(mean=mus[1], cov=sigmas[1], size=size1)\n",
    "    samples1 = pd.DataFrame(samples1, columns=['x','y','z'])\n",
    "    samples1['True Class Label'] = 1\n",
    "\n",
    "    samples2 = rng.multivariate_normal(mean=mus[2], cov=sigmas[2], size=size2)\n",
    "    samples2 = pd.DataFrame(samples2, columns=['x','y','z'])\n",
    "    samples2['True Class Label'] = 2\n",
    "\n",
    "    samples3 = rng.multivariate_normal(mean=mus[3], cov=sigmas[3], size=size3)\n",
    "    samples3 = pd.DataFrame(samples3, columns=['x','y','z'])\n",
    "    samples3['True Class Label'] = 3\n",
    "\n",
    "    samples   = pd.concat([samples0, samples1, samples2, samples3])\n",
    "    return samples\n",
    "\n",
    "def plot_sample_data(samples):\n",
    "    '''\n",
    "    Plots the 3-dimensions of the samples taken from the distribution.\n",
    "    Parameters\n",
    "    ----------\n",
    "    samples: pandas.DataFrame\n",
    "        DataFrame containing the sample data\n",
    "    Returns\n",
    "    -------\n",
    "    None\n",
    "    '''\n",
    "    fig = plt.figure(figsize=(5,5))\n",
    "    fig.subplots_adjust(left=0.01, right=0.985, top=0.99, bottom=0.01, wspace=0)\n",
    "    ax = plt.axes(projection =\"3d\")\n",
    "    samples0 = samples[samples['True Class Label']==0]\n",
    "    samples1 = samples[samples['True Class Label']==1]\n",
    "    samples2 = samples[samples['True Class Label']==2]\n",
    "    samples3 = samples[samples['True Class Label']==3]\n",
    "    x_0 = samples0['x'].tolist()\n",
    "    y_0 = samples0['y'].tolist()\n",
    "    z_0 = samples0['z'].tolist()\n",
    "    x_1 = samples1['x'].tolist()\n",
    "    y_1 = samples1['y'].tolist()\n",
    "    z_1 = samples1['z'].tolist()\n",
    "    x_2 = samples2['x'].tolist()\n",
    "    y_2 = samples2['y'].tolist()\n",
    "    z_2 = samples2['z'].tolist()\n",
    "    x_3 = samples3['x'].tolist()\n",
    "    y_3 = samples3['y'].tolist()\n",
    "    z_3 = samples3['z'].tolist()\n",
    "    ax.scatter3D(x_0, y_0, z_0, label='1', marker='+', alpha=0.2)\n",
    "    ax.scatter3D(x_1, y_1, z_1, label='2', marker='o', alpha=0.2)\n",
    "    ax.scatter3D(x_2, y_2, z_2, label='3', marker='^', alpha=0.2)\n",
    "    ax.scatter3D(x_3, y_3, z_3, label='4', marker='s', alpha=0.2)\n",
    "    ax.set_xlabel('x')\n",
    "    ax.set_ylabel('y')\n",
    "    ax.set_zlabel('z')\n",
    "    ax.legend(loc='upper left', title='True Class Label')\n",
    "    plt.show()\n",
    "    plt.clf()\n",
    "    return None"
   ]
  },
  {
   "cell_type": "code",
   "execution_count": 15,
   "metadata": {},
   "outputs": [],
   "source": [
    "# Cross Validation using K Fold\n",
    "def cross_validation(data, k=10, verbose=False):\n",
    "    '''\n",
    "    Cross-validation to determine best number of perceptrons\n",
    "    for an MLPclassifier.\n",
    "    Parameters\n",
    "    ----------\n",
    "    data: pd.DataFrame\n",
    "        The data to use\n",
    "    k: int, optional\n",
    "        Number of folds; k-fold cross validation\n",
    "    Returns\n",
    "    -------\n",
    "    P: int\n",
    "        Optimal number of perceptrons.\n",
    "    results: pandas.DataFrame\n",
    "        Dataframe showing the probability of error and number\n",
    "        of perceptrons.\n",
    "    '''\n",
    "    # Make k subsamples\n",
    "    cv = KFold(n_splits=k)\n",
    "    # Repeat the cross-validation over numerous hyparameter configurations\n",
    "    Ps = [x for x in np.arange(1, 11, 1)]\n",
    "    activation = 'relu'\n",
    "    results = pd.DataFrame()\n",
    "    X = []\n",
    "    for i, row in data.iterrows():\n",
    "        X.append([row['x'],row['y'],row['z']])\n",
    "    for p in Ps:\n",
    "        model = MLPClassifier(hidden_layer_sizes=(p,), activation=activation, max_iter=4000)\n",
    "        scores = cross_val_score(estimator=model, X=X, y=data['True Class Label'], cv=cv, scoring='accuracy')\n",
    "        print(scores)\n",
    "        p_errs = [1-score for score in scores]\n",
    "        d = pd.DataFrame([{'Mean Probability of Error Score': np.mean(p_errs), 'Number of Perceptrons': p}])\n",
    "        results = pd.concat([results, d], ignore_index=True)\n",
    "    data = results\n",
    "    results = results.sort_values(by='Mean Probability of Error Score').iloc[0]\n",
    "    min_score = results['Mean Probability of Error Score']\n",
    "    if(verbose):\n",
    "        print('The minimum-average-cross-validation-probability-of-error is: %.3f'%min_score)\n",
    "    return results['Number of Perceptrons'], data\n",
    "\n",
    "def plot_cross_validation_results(data):\n",
    "    '''\n",
    "    Plot how the hyperparameter changes the cross validation results.\n",
    "    Parameters\n",
    "    ----------\n",
    "    Data: pd.DataFrame\n",
    "        Data on the cross validation previously done.\n",
    "    \n",
    "    Returns\n",
    "    -------\n",
    "    None\n",
    "    '''\n",
    "    fig, ax = plt.subplots(1,1,figsize=(5,2.8))\n",
    "    fig.subplots_adjust(left=0.11, right=0.985, top=0.98, bottom=0.16, wspace=0)\n",
    "    data['Training Dataset Size'] = data['Training Dataset Size'].astype(str)\n",
    "    sns.scatterplot(data=data, x='Number of Perceptrons', y='Mean Probability of Error Score', hue='Training Dataset Size', palette='ch:s=-.2,r=.6')\n",
    "    ax.set_ylim(0,1)\n",
    "    plt.savefig('./q1_cross_validation.pdf')\n",
    "    plt.clf()\n",
    "    plt.close()\n",
    "    return None"
   ]
  },
  {
   "cell_type": "code",
   "execution_count": null,
   "metadata": {},
   "outputs": [],
   "source": [
    "# Hyperparameter testing?\n",
    "def test_hyperparameters(train_data, test_data, p):\n",
    "    '''\n",
    "    Trains an MLP with the appropriate number of perceptrons, determined previously by\n",
    "    10-fold cross validation, using the entire respective training set.\n",
    "    Parameters\n",
    "    ----------\n",
    "    train_data: pd.DataFrame\n",
    "        Data to train the model\n",
    "    test_data: pd.DataFrame\n",
    "        Data to test the accuracy of the model\n",
    "    p: int\n",
    "        Number of perceptrons to use in the model.\n",
    "    Returns\n",
    "    -------\n",
    "    test_data: pd.DataFrame\n",
    "        Predicted values and original testing data.\n",
    "    '''\n",
    "    # Train the model using the optimized hyperparameters\n",
    "    X = []\n",
    "    for i, row in train_data.iterrows():\n",
    "        X.append([row['x'],row['y'],row['z']])\n",
    "    Y = train_data['True Class Label']\n",
    "    activation = 'relu'\n",
    "    model = MLPClassifier(hidden_layer_sizes=(int(p),), activation=activation, max_iter=4000)\n",
    "    model.fit(X,Y)\n",
    "    # Test the accuracy of the model\n",
    "    X = []\n",
    "    for i, row in test_data.iterrows():\n",
    "        X.append([row['x'],row['y'],row['z']])\n",
    "    Y = model.predict(X)\n",
    "    test_data['Predicted Label'] = Y\n",
    "    return test_data"
   ]
  },
  {
   "cell_type": "code",
   "execution_count": null,
   "metadata": {},
   "outputs": [],
   "source": [
    "# Plot Model Results and Accuracy?\n",
    "\n",
    "def plot_model_results(data, training_size):\n",
    "    '''\n",
    "    Plot the accuracy of determined hyperparameters in training the model.\n",
    "    Parameters\n",
    "    ----------\n",
    "    Data: pd.DataFrame\n",
    "        Data on the model fit previously done.\n",
    "    training_size: int\n",
    "        Number of sample in training dataset.\n",
    "    \n",
    "    Returns\n",
    "    -------\n",
    "    None\n",
    "    '''\n",
    "    fig = plt.figure(figsize=(5,5))\n",
    "    fig.subplots_adjust(left=0.01, right=0.985, top=0.99, bottom=0.01, wspace=0)\n",
    "    ax = plt.axes(projection =\"3d\")\n",
    "    correct = 0\n",
    "    for idx,row in data.iterrows():\n",
    "        if idx%10 != 0:\n",
    "            continue\n",
    "        true_label = row['True Class Label']\n",
    "        decision   = row['Predicted Label']\n",
    "        x = row['x']\n",
    "        y = row['y']\n",
    "        z = row['z']\n",
    "        if(true_label==0.0):\n",
    "            if(true_label==decision):\n",
    "                ax.scatter3D(x,y,z,marker='x',color='g',alpha=0.1)\n",
    "                correct = correct + 1\n",
    "            else:\n",
    "                ax.scatter3D(x,y,z,marker='x',color='r',alpha=0.1)\n",
    "        elif(true_label==1.0):\n",
    "            if(true_label==decision):\n",
    "                ax.scatter3D(x,y,z,marker='o',color='g',alpha=0.1)\n",
    "                correct = correct + 1\n",
    "            else:\n",
    "                ax.scatter3D(x,y,z,marker='o',color='r',alpha=0.1)\n",
    "        elif(true_label==2.0):\n",
    "            if(true_label==decision):\n",
    "                ax.scatter3D(x,y,z,marker='^',color='g',alpha=0.1)\n",
    "                correct = correct + 1\n",
    "            else:\n",
    "                ax.scatter3D(x,y,z,marker='^',color='r',alpha=0.1)\n",
    "        else:\n",
    "            if(true_label==decision):\n",
    "                ax.scatter3D(x,y,z,marker='s',color='g',alpha=0.1)\n",
    "                correct = correct + 1\n",
    "            else:\n",
    "                ax.scatter3D(x,y,z,marker='s',color='r',alpha=0.1)\n",
    "    accuracy = correct/(data.shape[0]/10)\n",
    "    print('Model accuracy was %.3f'%(accuracy))\n",
    "    '''\n",
    "    legend_elements = [Line2D([0], [0], marker='x', color='w', label='1', markerfacecolor='grey', markersize=15),\n",
    "                        Line2D([0], [0], marker='o', color='w', label='2', markerfacecolor='grey', markersize=15),\n",
    "                        Line2D([0], [0], marker='^', color='w', label='3', markerfacecolor='grey', markersize=15),\n",
    "                        Line2D([0], [0], marker='s', color='w', label='4', markerfacecolor='grey', markersize=15)]\n",
    "    legend0 = ax.legend(handles=legend_elements, title='True Class Label', loc='upper right')\n",
    "    '''\n",
    "    legend_elements = [Patch(facecolor='g', edgecolor='g', label='True'),\n",
    "                        Patch(facecolor='r', edgecolor='r', label='False')]\n",
    "    legend1 = ax.legend(handles=legend_elements, title='Correctly Classified', loc='lower right')\n",
    "    #ax.add_artist(legend0)\n",
    "    ax.set_xlabel('x')\n",
    "    ax.set_ylabel('y')\n",
    "    ax.set_zlabel('z')\n",
    "    plt.show()\n",
    "    # plt.savefig('./q1_classified_data_%d.jpg'%training_size)\n",
    "    # plt.clf()\n",
    "    return accuracy\n",
    "\n",
    "def plot_accuracy(accuracy_data, test_data):\n",
    "    '''\n",
    "    Scatterplot of how the size of the training dataset affects the accuracy\n",
    "    of the model.\n",
    "    Parameters\n",
    "    ----------\n",
    "    data: pd.DataFrame\n",
    "        Data for plotting\n",
    "    Returns\n",
    "    -------\n",
    "    None\n",
    "    '''\n",
    "    # Get the theoretical optimal classification\n",
    "    thy_optimal = find_optimal_classification(test_data)\n",
    "    print(\"Theoretical optimal classification: %.3f\"%thy_optimal)\n",
    "    fig, ax = plt.subplots(1,1,figsize=(5,2))\n",
    "    fig.subplots_adjust(left=0.13, right=0.985, top=0.97, bottom=0.23, wspace=0)\n",
    "    data['Training Dataset Size'] = data['Training Dataset Size'].astype(int).astype(str)\n",
    "    sns.scatterplot(data=data, x='Training Dataset Size', y='Accuracy', palette='ch:s=-.2,r=.6')\n",
    "    plt.axhline(y=thy_optimal, color='r', linestyle='--')\n",
    "    ax.set_ylim(.7,.9)\n",
    "    ax.yaxis.grid(color='lightgrey', linestyle=':')\n",
    "    ax.set_axisbelow(True)\n",
    "    vals = ax.get_yticks()\n",
    "    ax.set_yticklabels(['{:,.0%}'.format(x) for x in vals])\n",
    "    plt.savefig('./q1_model_accuracy.pdf')\n",
    "    plt.clf()\n",
    "    plt.close()\n",
    "    return None"
   ]
  },
  {
   "cell_type": "code",
   "execution_count": 33,
   "metadata": {},
   "outputs": [],
   "source": [
    "# Optimal Classifier\n",
    "def find_optimal_classification(data):\n",
    "    X = []\n",
    "    for i, row in data.iterrows():\n",
    "        X.append([row['x'],row['y'],row['z']])\n",
    "    scaler = MinMaxScaler()\n",
    "    scaler.fit(X)\n",
    "    X = scaler.transform(X)\n",
    "    Y = data['True Class Label']\n",
    "    model = GaussianNB(priors=[0.25,0.25,0.25,0.25])\n",
    "    model.fit(X,Y)\n",
    "    data['Predicted Label'] = model.predict(X)\n",
    "    correct = 0\n",
    "    for idx,row in data.iterrows():\n",
    "        true_label = row['True Class Label']\n",
    "        decision   = row['Predicted Label']\n",
    "        if(true_label==decision):\n",
    "                correct = correct + 1\n",
    "    accuracy = correct/(data.shape[0])\n",
    "    return accuracy"
   ]
  },
  {
   "cell_type": "code",
   "execution_count": 17,
   "metadata": {},
   "outputs": [
    {
     "data": {
      "image/png": "[encoded data removed]",
      "text/plain": [
       "<Figure size 360x360 with 1 Axes>"
      ]
     },
     "metadata": {
      "needs_background": "light"
     },
     "output_type": "display_data"
    },
    {
     "data": {
      "text/plain": [
       "<Figure size 432x288 with 0 Axes>"
      ]
     },
     "metadata": {},
     "output_type": "display_data"
    }
   ],
   "source": [
    "# Generate samples\n",
    "# Training datasets\n",
    "train0 = generate_data(100)\n",
    "train1 = generate_data(200)\n",
    "train2 = generate_data(500)\n",
    "train3 = generate_data(1000)\n",
    "train4 = generate_data(2000)\n",
    "train5 = generate_data(5000)\n",
    "# Testing dataset\n",
    "test = generate_data(100000)\n",
    "\n",
    "# Plot the testing data without classification\n",
    "plot_sample_data(test)"
   ]
  },
  {
   "cell_type": "code",
   "execution_count": 38,
   "metadata": {},
   "outputs": [
    {
     "name": "stdout",
     "output_type": "stream",
     "text": [
      "[0.1  0.   0.45 0.   0.45 0.   0.4  0.   0.   0.9 ]\n",
      "[0.45 0.95 0.7  0.   0.45 0.85 0.   0.   0.   0.95]\n"
     ]
    },
    {
     "name": "stderr",
     "output_type": "stream",
     "text": [
      "c:\\Users\\meuli\\anaconda3\\lib\\site-packages\\sklearn\\neural_network\\_multilayer_perceptron.py:692: ConvergenceWarning: Stochastic Optimizer: Maximum iterations (4000) reached and the optimization hasn't converged yet.\n",
      "  warnings.warn(\n"
     ]
    },
    {
     "name": "stdout",
     "output_type": "stream",
     "text": [
      "[1.   0.5  0.5  0.   0.7  0.55 0.75 1.   0.85 0.9 ]\n"
     ]
    },
    {
     "name": "stderr",
     "output_type": "stream",
     "text": [
      "c:\\Users\\meuli\\anaconda3\\lib\\site-packages\\sklearn\\neural_network\\_multilayer_perceptron.py:692: ConvergenceWarning: Stochastic Optimizer: Maximum iterations (4000) reached and the optimization hasn't converged yet.\n",
      "  warnings.warn(\n"
     ]
    },
    {
     "name": "stdout",
     "output_type": "stream",
     "text": [
      "[1.   0.   0.7  0.7  0.9  0.8  0.7  0.95 0.7  0.85]\n"
     ]
    },
    {
     "name": "stderr",
     "output_type": "stream",
     "text": [
      "c:\\Users\\meuli\\anaconda3\\lib\\site-packages\\sklearn\\neural_network\\_multilayer_perceptron.py:692: ConvergenceWarning: Stochastic Optimizer: Maximum iterations (4000) reached and the optimization hasn't converged yet.\n",
      "  warnings.warn(\n"
     ]
    },
    {
     "name": "stdout",
     "output_type": "stream",
     "text": [
      "[1.   0.95 0.65 0.7  0.7  0.5  0.7  0.95 0.85 0.85]\n",
      "[0.95 0.95 0.7  0.65 0.7  0.75 0.7  0.95 0.8  0.85]\n",
      "[1.   0.95 0.65 0.7  0.8  0.8  0.75 0.95 0.85 0.85]\n",
      "[0.85 0.85 0.75 0.75 0.75 0.65 0.7  0.9  0.85 0.85]\n",
      "[0.95 0.95 0.75 0.7  0.85 0.8  0.7  0.95 0.85 0.85]\n",
      "[0.85 0.9  0.65 0.65 0.7  0.7  0.7  0.95 0.85 0.85]\n",
      "1000 CV Perceptrons: 9.0\n"
     ]
    }
   ],
   "source": [
    "# Perform 10-Fold Cross-Validation - returns \"best\" number of perceptrons\n",
    "n_perceptrons, cv_results = cross_validation(train1, k=10, verbose=False)\n",
    "print(\"1000 CV Perceptrons: {}\".format(n_perceptrons))"
   ]
  },
  {
   "cell_type": "code",
   "execution_count": 50,
   "metadata": {},
   "outputs": [
    {
     "name": "stdout",
     "output_type": "stream",
     "text": [
      "Model accuracy was 0.891\n"
     ]
    },
    {
     "data": {
      "image/png": "[encoded data removed]",
      "text/plain": [
       "<Figure size 360x360 with 1 Axes>"
      ]
     },
     "metadata": {
      "needs_background": "light"
     },
     "output_type": "display_data"
    }
   ],
   "source": [
    "res = cv_results.to_numpy()\n",
    "prob_error = res[:,0]\n",
    "num_perceptrons = res[:,1]\n",
    "\n",
    "min_index = np.argmin(prob_error)\n",
    "min_prob_error = prob_error[min_index]\n",
    "num_perceptrons_best = num_perceptrons[min_index]\n",
    "\n",
    "\n",
    "\n",
    "training_size = 200\n",
    "\n",
    "# Train MLP with the number of perceptrons specified above\n",
    "results = test_hyperparameters(train1, test, num_perceptrons_best)\n",
    "accuracy = plot_model_results(results, training_size)"
   ]
  },
  {
   "cell_type": "code",
   "execution_count": null,
   "metadata": {},
   "outputs": [],
   "source": []
  },
  {
   "cell_type": "code",
   "execution_count": 3,
   "metadata": {},
   "outputs": [
    {
     "name": "stderr",
     "output_type": "stream",
     "text": [
      "C:\\Users\\meuli\\AppData\\Local\\Temp\\ipykernel_24836\\1317973755.py:53: RuntimeWarning: covariance is not positive-semidefinite.\n",
      "  samples0 = rng.multivariate_normal(mean=mus[0], cov=sigmas[0], size=size0)\n",
      "C:\\Users\\meuli\\AppData\\Local\\Temp\\ipykernel_24836\\1317973755.py:57: RuntimeWarning: covariance is not positive-semidefinite.\n",
      "  samples1 = rng.multivariate_normal(mean=mus[1], cov=sigmas[1], size=size1)\n",
      "C:\\Users\\meuli\\AppData\\Local\\Temp\\ipykernel_24836\\1317973755.py:61: RuntimeWarning: covariance is not positive-semidefinite.\n",
      "  samples2 = rng.multivariate_normal(mean=mus[2], cov=sigmas[2], size=size2)\n",
      "C:\\Users\\meuli\\AppData\\Local\\Temp\\ipykernel_24836\\1317973755.py:65: RuntimeWarning: covariance is not positive-semidefinite.\n",
      "  samples3 = rng.multivariate_normal(mean=mus[3], cov=sigmas[3], size=size3)\n",
      "C:\\Users\\meuli\\AppData\\Local\\Temp\\ipykernel_24836\\1317973755.py:69: FutureWarning: The frame.append method is deprecated and will be removed from pandas in a future version. Use pandas.concat instead.\n",
      "  samples   = samples0.append([samples1, samples2, samples3])\n",
      "C:\\Users\\meuli\\AppData\\Local\\Temp\\ipykernel_24836\\1317973755.py:53: RuntimeWarning: covariance is not positive-semidefinite.\n",
      "  samples0 = rng.multivariate_normal(mean=mus[0], cov=sigmas[0], size=size0)\n",
      "C:\\Users\\meuli\\AppData\\Local\\Temp\\ipykernel_24836\\1317973755.py:57: RuntimeWarning: covariance is not positive-semidefinite.\n",
      "  samples1 = rng.multivariate_normal(mean=mus[1], cov=sigmas[1], size=size1)\n",
      "C:\\Users\\meuli\\AppData\\Local\\Temp\\ipykernel_24836\\1317973755.py:61: RuntimeWarning: covariance is not positive-semidefinite.\n",
      "  samples2 = rng.multivariate_normal(mean=mus[2], cov=sigmas[2], size=size2)\n",
      "C:\\Users\\meuli\\AppData\\Local\\Temp\\ipykernel_24836\\1317973755.py:65: RuntimeWarning: covariance is not positive-semidefinite.\n",
      "  samples3 = rng.multivariate_normal(mean=mus[3], cov=sigmas[3], size=size3)\n",
      "C:\\Users\\meuli\\AppData\\Local\\Temp\\ipykernel_24836\\1317973755.py:69: FutureWarning: The frame.append method is deprecated and will be removed from pandas in a future version. Use pandas.concat instead.\n",
      "  samples   = samples0.append([samples1, samples2, samples3])\n",
      "C:\\Users\\meuli\\AppData\\Local\\Temp\\ipykernel_24836\\1317973755.py:53: RuntimeWarning: covariance is not positive-semidefinite.\n",
      "  samples0 = rng.multivariate_normal(mean=mus[0], cov=sigmas[0], size=size0)\n",
      "C:\\Users\\meuli\\AppData\\Local\\Temp\\ipykernel_24836\\1317973755.py:57: RuntimeWarning: covariance is not positive-semidefinite.\n",
      "  samples1 = rng.multivariate_normal(mean=mus[1], cov=sigmas[1], size=size1)\n",
      "C:\\Users\\meuli\\AppData\\Local\\Temp\\ipykernel_24836\\1317973755.py:61: RuntimeWarning: covariance is not positive-semidefinite.\n",
      "  samples2 = rng.multivariate_normal(mean=mus[2], cov=sigmas[2], size=size2)\n",
      "C:\\Users\\meuli\\AppData\\Local\\Temp\\ipykernel_24836\\1317973755.py:65: RuntimeWarning: covariance is not positive-semidefinite.\n",
      "  samples3 = rng.multivariate_normal(mean=mus[3], cov=sigmas[3], size=size3)\n",
      "C:\\Users\\meuli\\AppData\\Local\\Temp\\ipykernel_24836\\1317973755.py:69: FutureWarning: The frame.append method is deprecated and will be removed from pandas in a future version. Use pandas.concat instead.\n",
      "  samples   = samples0.append([samples1, samples2, samples3])\n",
      "C:\\Users\\meuli\\AppData\\Local\\Temp\\ipykernel_24836\\1317973755.py:53: RuntimeWarning: covariance is not positive-semidefinite.\n",
      "  samples0 = rng.multivariate_normal(mean=mus[0], cov=sigmas[0], size=size0)\n",
      "C:\\Users\\meuli\\AppData\\Local\\Temp\\ipykernel_24836\\1317973755.py:57: RuntimeWarning: covariance is not positive-semidefinite.\n",
      "  samples1 = rng.multivariate_normal(mean=mus[1], cov=sigmas[1], size=size1)\n",
      "C:\\Users\\meuli\\AppData\\Local\\Temp\\ipykernel_24836\\1317973755.py:61: RuntimeWarning: covariance is not positive-semidefinite.\n",
      "  samples2 = rng.multivariate_normal(mean=mus[2], cov=sigmas[2], size=size2)\n",
      "C:\\Users\\meuli\\AppData\\Local\\Temp\\ipykernel_24836\\1317973755.py:65: RuntimeWarning: covariance is not positive-semidefinite.\n",
      "  samples3 = rng.multivariate_normal(mean=mus[3], cov=sigmas[3], size=size3)\n",
      "C:\\Users\\meuli\\AppData\\Local\\Temp\\ipykernel_24836\\1317973755.py:69: FutureWarning: The frame.append method is deprecated and will be removed from pandas in a future version. Use pandas.concat instead.\n",
      "  samples   = samples0.append([samples1, samples2, samples3])\n",
      "C:\\Users\\meuli\\AppData\\Local\\Temp\\ipykernel_24836\\1317973755.py:53: RuntimeWarning: covariance is not positive-semidefinite.\n",
      "  samples0 = rng.multivariate_normal(mean=mus[0], cov=sigmas[0], size=size0)\n",
      "C:\\Users\\meuli\\AppData\\Local\\Temp\\ipykernel_24836\\1317973755.py:57: RuntimeWarning: covariance is not positive-semidefinite.\n",
      "  samples1 = rng.multivariate_normal(mean=mus[1], cov=sigmas[1], size=size1)\n",
      "C:\\Users\\meuli\\AppData\\Local\\Temp\\ipykernel_24836\\1317973755.py:61: RuntimeWarning: covariance is not positive-semidefinite.\n",
      "  samples2 = rng.multivariate_normal(mean=mus[2], cov=sigmas[2], size=size2)\n",
      "C:\\Users\\meuli\\AppData\\Local\\Temp\\ipykernel_24836\\1317973755.py:65: RuntimeWarning: covariance is not positive-semidefinite.\n",
      "  samples3 = rng.multivariate_normal(mean=mus[3], cov=sigmas[3], size=size3)\n",
      "C:\\Users\\meuli\\AppData\\Local\\Temp\\ipykernel_24836\\1317973755.py:69: FutureWarning: The frame.append method is deprecated and will be removed from pandas in a future version. Use pandas.concat instead.\n",
      "  samples   = samples0.append([samples1, samples2, samples3])\n",
      "C:\\Users\\meuli\\AppData\\Local\\Temp\\ipykernel_24836\\1317973755.py:53: RuntimeWarning: covariance is not positive-semidefinite.\n",
      "  samples0 = rng.multivariate_normal(mean=mus[0], cov=sigmas[0], size=size0)\n",
      "C:\\Users\\meuli\\AppData\\Local\\Temp\\ipykernel_24836\\1317973755.py:57: RuntimeWarning: covariance is not positive-semidefinite.\n",
      "  samples1 = rng.multivariate_normal(mean=mus[1], cov=sigmas[1], size=size1)\n",
      "C:\\Users\\meuli\\AppData\\Local\\Temp\\ipykernel_24836\\1317973755.py:61: RuntimeWarning: covariance is not positive-semidefinite.\n",
      "  samples2 = rng.multivariate_normal(mean=mus[2], cov=sigmas[2], size=size2)\n",
      "C:\\Users\\meuli\\AppData\\Local\\Temp\\ipykernel_24836\\1317973755.py:65: RuntimeWarning: covariance is not positive-semidefinite.\n",
      "  samples3 = rng.multivariate_normal(mean=mus[3], cov=sigmas[3], size=size3)\n",
      "C:\\Users\\meuli\\AppData\\Local\\Temp\\ipykernel_24836\\1317973755.py:69: FutureWarning: The frame.append method is deprecated and will be removed from pandas in a future version. Use pandas.concat instead.\n",
      "  samples   = samples0.append([samples1, samples2, samples3])\n",
      "C:\\Users\\meuli\\AppData\\Local\\Temp\\ipykernel_24836\\1317973755.py:53: RuntimeWarning: covariance is not positive-semidefinite.\n",
      "  samples0 = rng.multivariate_normal(mean=mus[0], cov=sigmas[0], size=size0)\n",
      "C:\\Users\\meuli\\AppData\\Local\\Temp\\ipykernel_24836\\1317973755.py:57: RuntimeWarning: covariance is not positive-semidefinite.\n",
      "  samples1 = rng.multivariate_normal(mean=mus[1], cov=sigmas[1], size=size1)\n",
      "C:\\Users\\meuli\\AppData\\Local\\Temp\\ipykernel_24836\\1317973755.py:61: RuntimeWarning: covariance is not positive-semidefinite.\n",
      "  samples2 = rng.multivariate_normal(mean=mus[2], cov=sigmas[2], size=size2)\n",
      "C:\\Users\\meuli\\AppData\\Local\\Temp\\ipykernel_24836\\1317973755.py:65: RuntimeWarning: covariance is not positive-semidefinite.\n",
      "  samples3 = rng.multivariate_normal(mean=mus[3], cov=sigmas[3], size=size3)\n",
      "C:\\Users\\meuli\\AppData\\Local\\Temp\\ipykernel_24836\\1317973755.py:69: FutureWarning: The frame.append method is deprecated and will be removed from pandas in a future version. Use pandas.concat instead.\n",
      "  samples   = samples0.append([samples1, samples2, samples3])\n"
     ]
    },
    {
     "name": "stdout",
     "output_type": "stream",
     "text": [
      "[0.  0.  0.  0.8 0.2 0.3 0.4 1.  0.6 0.8]\n"
     ]
    },
    {
     "name": "stderr",
     "output_type": "stream",
     "text": [
      "C:\\Users\\meuli\\AppData\\Local\\Temp\\ipykernel_24836\\1317973755.py:165: FutureWarning: The frame.append method is deprecated and will be removed from pandas in a future version. Use pandas.concat instead.\n",
      "  results = results.append(d, ignore_index=True)\n"
     ]
    },
    {
     "name": "stdout",
     "output_type": "stream",
     "text": [
      "[0.4 0.2 0.7 1.  0.9 0.7 1.  1.  0.9 0.8]\n"
     ]
    },
    {
     "name": "stderr",
     "output_type": "stream",
     "text": [
      "C:\\Users\\meuli\\AppData\\Local\\Temp\\ipykernel_24836\\1317973755.py:165: FutureWarning: The frame.append method is deprecated and will be removed from pandas in a future version. Use pandas.concat instead.\n",
      "  results = results.append(d, ignore_index=True)\n"
     ]
    },
    {
     "name": "stdout",
     "output_type": "stream",
     "text": [
      "[0.2 0.7 0.8 1.  0.8 0.6 0.9 1.  0.9 0.9]\n"
     ]
    },
    {
     "name": "stderr",
     "output_type": "stream",
     "text": [
      "C:\\Users\\meuli\\AppData\\Local\\Temp\\ipykernel_24836\\1317973755.py:165: FutureWarning: The frame.append method is deprecated and will be removed from pandas in a future version. Use pandas.concat instead.\n",
      "  results = results.append(d, ignore_index=True)\n"
     ]
    },
    {
     "name": "stdout",
     "output_type": "stream",
     "text": [
      "[0.4 0.5 0.7 0.7 0.9 0.9 0.9 1.  0.9 0.8]\n"
     ]
    },
    {
     "name": "stderr",
     "output_type": "stream",
     "text": [
      "C:\\Users\\meuli\\AppData\\Local\\Temp\\ipykernel_24836\\1317973755.py:165: FutureWarning: The frame.append method is deprecated and will be removed from pandas in a future version. Use pandas.concat instead.\n",
      "  results = results.append(d, ignore_index=True)\n"
     ]
    },
    {
     "name": "stdout",
     "output_type": "stream",
     "text": [
      "[0.3 0.6 0.7 0.7 0.9 0.8 0.9 1.  0.9 0.9]\n"
     ]
    },
    {
     "name": "stderr",
     "output_type": "stream",
     "text": [
      "C:\\Users\\meuli\\AppData\\Local\\Temp\\ipykernel_24836\\1317973755.py:165: FutureWarning: The frame.append method is deprecated and will be removed from pandas in a future version. Use pandas.concat instead.\n",
      "  results = results.append(d, ignore_index=True)\n"
     ]
    },
    {
     "name": "stdout",
     "output_type": "stream",
     "text": [
      "[0.6 0.5 0.6 0.8 0.8 1.  0.9 1.  0.9 0.8]\n"
     ]
    },
    {
     "name": "stderr",
     "output_type": "stream",
     "text": [
      "C:\\Users\\meuli\\AppData\\Local\\Temp\\ipykernel_24836\\1317973755.py:165: FutureWarning: The frame.append method is deprecated and will be removed from pandas in a future version. Use pandas.concat instead.\n",
      "  results = results.append(d, ignore_index=True)\n"
     ]
    },
    {
     "name": "stdout",
     "output_type": "stream",
     "text": [
      "[0.4 0.4 0.7 0.7 0.8 0.9 0.9 1.  0.9 0.9]\n"
     ]
    },
    {
     "name": "stderr",
     "output_type": "stream",
     "text": [
      "C:\\Users\\meuli\\AppData\\Local\\Temp\\ipykernel_24836\\1317973755.py:165: FutureWarning: The frame.append method is deprecated and will be removed from pandas in a future version. Use pandas.concat instead.\n",
      "  results = results.append(d, ignore_index=True)\n"
     ]
    },
    {
     "name": "stdout",
     "output_type": "stream",
     "text": [
      "[0.2 0.6 0.6 0.8 0.9 0.9 0.9 1.  0.8 0.8]\n"
     ]
    },
    {
     "name": "stderr",
     "output_type": "stream",
     "text": [
      "C:\\Users\\meuli\\AppData\\Local\\Temp\\ipykernel_24836\\1317973755.py:165: FutureWarning: The frame.append method is deprecated and will be removed from pandas in a future version. Use pandas.concat instead.\n",
      "  results = results.append(d, ignore_index=True)\n"
     ]
    },
    {
     "name": "stdout",
     "output_type": "stream",
     "text": [
      "[0.4 0.7 0.8 0.6 0.9 0.8 1.  1.  0.9 0.8]\n"
     ]
    },
    {
     "name": "stderr",
     "output_type": "stream",
     "text": [
      "C:\\Users\\meuli\\AppData\\Local\\Temp\\ipykernel_24836\\1317973755.py:165: FutureWarning: The frame.append method is deprecated and will be removed from pandas in a future version. Use pandas.concat instead.\n",
      "  results = results.append(d, ignore_index=True)\n"
     ]
    },
    {
     "name": "stdout",
     "output_type": "stream",
     "text": [
      "[0.4 0.6 0.7 0.7 0.9 1.  0.9 1.  0.9 0.8]\n",
      "100 CV Perceptrons: 6\n"
     ]
    },
    {
     "name": "stderr",
     "output_type": "stream",
     "text": [
      "C:\\Users\\meuli\\AppData\\Local\\Temp\\ipykernel_24836\\1317973755.py:165: FutureWarning: The frame.append method is deprecated and will be removed from pandas in a future version. Use pandas.concat instead.\n",
      "  results = results.append(d, ignore_index=True)\n",
      "C:\\Users\\meuli\\AppData\\Local\\Temp\\ipykernel_24836\\3159707208.py:20: FutureWarning: The frame.append method is deprecated and will be removed from pandas in a future version. Use pandas.concat instead.\n",
      "  final_results = final_results.append(results, ignore_index=True)\n"
     ]
    },
    {
     "name": "stdout",
     "output_type": "stream",
     "text": [
      "[0.   0.   0.4  0.   0.3  0.9  0.   0.   0.   0.05]\n"
     ]
    },
    {
     "name": "stderr",
     "output_type": "stream",
     "text": [
      "C:\\Users\\meuli\\AppData\\Local\\Temp\\ipykernel_24836\\1317973755.py:165: FutureWarning: The frame.append method is deprecated and will be removed from pandas in a future version. Use pandas.concat instead.\n",
      "  results = results.append(d, ignore_index=True)\n"
     ]
    },
    {
     "name": "stdout",
     "output_type": "stream",
     "text": [
      "[0.55 0.4  0.65 0.45 0.55 0.   0.9  0.9  0.9  0.75]\n"
     ]
    },
    {
     "name": "stderr",
     "output_type": "stream",
     "text": [
      "C:\\Users\\meuli\\AppData\\Local\\Temp\\ipykernel_24836\\1317973755.py:165: FutureWarning: The frame.append method is deprecated and will be removed from pandas in a future version. Use pandas.concat instead.\n",
      "  results = results.append(d, ignore_index=True)\n"
     ]
    },
    {
     "name": "stdout",
     "output_type": "stream",
     "text": [
      "[0.45 0.55 0.8  0.6  1.   0.7  0.9  0.8  0.7  0.75]\n"
     ]
    },
    {
     "name": "stderr",
     "output_type": "stream",
     "text": [
      "C:\\Users\\meuli\\AppData\\Local\\Temp\\ipykernel_24836\\1317973755.py:165: FutureWarning: The frame.append method is deprecated and will be removed from pandas in a future version. Use pandas.concat instead.\n",
      "  results = results.append(d, ignore_index=True)\n"
     ]
    },
    {
     "name": "stdout",
     "output_type": "stream",
     "text": [
      "[0.45 0.5  0.75 0.55 0.8  0.85 0.9  0.85 0.85 0.75]\n"
     ]
    },
    {
     "name": "stderr",
     "output_type": "stream",
     "text": [
      "C:\\Users\\meuli\\AppData\\Local\\Temp\\ipykernel_24836\\1317973755.py:165: FutureWarning: The frame.append method is deprecated and will be removed from pandas in a future version. Use pandas.concat instead.\n",
      "  results = results.append(d, ignore_index=True)\n"
     ]
    },
    {
     "name": "stdout",
     "output_type": "stream",
     "text": [
      "[0.55 0.55 0.75 0.5  0.9  0.7  0.9  0.9  0.9  0.85]\n"
     ]
    },
    {
     "name": "stderr",
     "output_type": "stream",
     "text": [
      "C:\\Users\\meuli\\AppData\\Local\\Temp\\ipykernel_24836\\1317973755.py:165: FutureWarning: The frame.append method is deprecated and will be removed from pandas in a future version. Use pandas.concat instead.\n",
      "  results = results.append(d, ignore_index=True)\n"
     ]
    },
    {
     "name": "stdout",
     "output_type": "stream",
     "text": [
      "[0.45 0.6  0.75 0.5  0.9  0.75 0.9  0.9  0.9  0.85]\n"
     ]
    },
    {
     "name": "stderr",
     "output_type": "stream",
     "text": [
      "C:\\Users\\meuli\\AppData\\Local\\Temp\\ipykernel_24836\\1317973755.py:165: FutureWarning: The frame.append method is deprecated and will be removed from pandas in a future version. Use pandas.concat instead.\n",
      "  results = results.append(d, ignore_index=True)\n"
     ]
    },
    {
     "name": "stdout",
     "output_type": "stream",
     "text": [
      "[0.5  0.5  0.75 0.5  0.75 0.9  0.9  0.85 0.9  0.75]\n"
     ]
    },
    {
     "name": "stderr",
     "output_type": "stream",
     "text": [
      "C:\\Users\\meuli\\AppData\\Local\\Temp\\ipykernel_24836\\1317973755.py:165: FutureWarning: The frame.append method is deprecated and will be removed from pandas in a future version. Use pandas.concat instead.\n",
      "  results = results.append(d, ignore_index=True)\n"
     ]
    },
    {
     "name": "stdout",
     "output_type": "stream",
     "text": [
      "[0.45 0.7  0.85 0.5  0.8  0.75 0.9  0.85 0.85 0.85]\n"
     ]
    },
    {
     "name": "stderr",
     "output_type": "stream",
     "text": [
      "C:\\Users\\meuli\\AppData\\Local\\Temp\\ipykernel_24836\\1317973755.py:165: FutureWarning: The frame.append method is deprecated and will be removed from pandas in a future version. Use pandas.concat instead.\n",
      "  results = results.append(d, ignore_index=True)\n"
     ]
    },
    {
     "name": "stdout",
     "output_type": "stream",
     "text": [
      "[0.45 0.65 0.8  0.55 0.75 0.9  0.9  0.9  0.9  0.85]\n"
     ]
    },
    {
     "name": "stderr",
     "output_type": "stream",
     "text": [
      "C:\\Users\\meuli\\AppData\\Local\\Temp\\ipykernel_24836\\1317973755.py:165: FutureWarning: The frame.append method is deprecated and will be removed from pandas in a future version. Use pandas.concat instead.\n",
      "  results = results.append(d, ignore_index=True)\n"
     ]
    },
    {
     "name": "stdout",
     "output_type": "stream",
     "text": [
      "[0.45 0.65 0.75 0.5  0.9  0.9  0.9  0.85 0.85 0.8 ]\n",
      "200 CV Perceptrons: 9\n"
     ]
    },
    {
     "name": "stderr",
     "output_type": "stream",
     "text": [
      "C:\\Users\\meuli\\AppData\\Local\\Temp\\ipykernel_24836\\1317973755.py:165: FutureWarning: The frame.append method is deprecated and will be removed from pandas in a future version. Use pandas.concat instead.\n",
      "  results = results.append(d, ignore_index=True)\n",
      "C:\\Users\\meuli\\AppData\\Local\\Temp\\ipykernel_24836\\3159707208.py:26: FutureWarning: The frame.append method is deprecated and will be removed from pandas in a future version. Use pandas.concat instead.\n",
      "  final_results = final_results.append(results, ignore_index=True)\n"
     ]
    },
    {
     "name": "stdout",
     "output_type": "stream",
     "text": [
      "[0.   0.02 0.46 0.78 0.6  0.1  0.   0.48 0.   0.7 ]\n"
     ]
    },
    {
     "name": "stderr",
     "output_type": "stream",
     "text": [
      "C:\\Users\\meuli\\AppData\\Local\\Temp\\ipykernel_24836\\1317973755.py:165: FutureWarning: The frame.append method is deprecated and will be removed from pandas in a future version. Use pandas.concat instead.\n",
      "  results = results.append(d, ignore_index=True)\n"
     ]
    },
    {
     "name": "stdout",
     "output_type": "stream",
     "text": [
      "[0.32 0.14 0.8  0.68 0.8  0.74 1.   0.36 0.4  0.9 ]\n"
     ]
    },
    {
     "name": "stderr",
     "output_type": "stream",
     "text": [
      "C:\\Users\\meuli\\AppData\\Local\\Temp\\ipykernel_24836\\1317973755.py:165: FutureWarning: The frame.append method is deprecated and will be removed from pandas in a future version. Use pandas.concat instead.\n",
      "  results = results.append(d, ignore_index=True)\n"
     ]
    },
    {
     "name": "stdout",
     "output_type": "stream",
     "text": [
      "[0.54 0.72 0.84 0.8  0.72 0.92 0.92 0.84 0.94 0.9 ]\n"
     ]
    },
    {
     "name": "stderr",
     "output_type": "stream",
     "text": [
      "C:\\Users\\meuli\\AppData\\Local\\Temp\\ipykernel_24836\\1317973755.py:165: FutureWarning: The frame.append method is deprecated and will be removed from pandas in a future version. Use pandas.concat instead.\n",
      "  results = results.append(d, ignore_index=True)\n"
     ]
    },
    {
     "name": "stdout",
     "output_type": "stream",
     "text": [
      "[0.52 0.66 0.8  0.72 0.84 0.84 0.86 0.86 0.94 0.84]\n"
     ]
    },
    {
     "name": "stderr",
     "output_type": "stream",
     "text": [
      "C:\\Users\\meuli\\AppData\\Local\\Temp\\ipykernel_24836\\1317973755.py:165: FutureWarning: The frame.append method is deprecated and will be removed from pandas in a future version. Use pandas.concat instead.\n",
      "  results = results.append(d, ignore_index=True)\n"
     ]
    },
    {
     "name": "stdout",
     "output_type": "stream",
     "text": [
      "[0.62 0.66 0.84 0.8  0.82 0.8  0.86 0.86 0.9  0.92]\n"
     ]
    },
    {
     "name": "stderr",
     "output_type": "stream",
     "text": [
      "C:\\Users\\meuli\\AppData\\Local\\Temp\\ipykernel_24836\\1317973755.py:165: FutureWarning: The frame.append method is deprecated and will be removed from pandas in a future version. Use pandas.concat instead.\n",
      "  results = results.append(d, ignore_index=True)\n"
     ]
    },
    {
     "name": "stdout",
     "output_type": "stream",
     "text": [
      "[0.58 0.64 0.76 0.74 0.82 0.84 0.8  0.86 0.94 0.86]\n"
     ]
    },
    {
     "name": "stderr",
     "output_type": "stream",
     "text": [
      "C:\\Users\\meuli\\AppData\\Local\\Temp\\ipykernel_24836\\1317973755.py:165: FutureWarning: The frame.append method is deprecated and will be removed from pandas in a future version. Use pandas.concat instead.\n",
      "  results = results.append(d, ignore_index=True)\n"
     ]
    },
    {
     "name": "stdout",
     "output_type": "stream",
     "text": [
      "[0.66 0.68 0.8  0.74 0.82 0.9  0.9  0.86 0.88 0.9 ]\n"
     ]
    },
    {
     "name": "stderr",
     "output_type": "stream",
     "text": [
      "C:\\Users\\meuli\\AppData\\Local\\Temp\\ipykernel_24836\\1317973755.py:165: FutureWarning: The frame.append method is deprecated and will be removed from pandas in a future version. Use pandas.concat instead.\n",
      "  results = results.append(d, ignore_index=True)\n"
     ]
    },
    {
     "name": "stdout",
     "output_type": "stream",
     "text": [
      "[0.62 0.68 0.82 0.68 0.82 0.88 0.9  0.86 0.98 0.92]\n"
     ]
    },
    {
     "name": "stderr",
     "output_type": "stream",
     "text": [
      "C:\\Users\\meuli\\AppData\\Local\\Temp\\ipykernel_24836\\1317973755.py:165: FutureWarning: The frame.append method is deprecated and will be removed from pandas in a future version. Use pandas.concat instead.\n",
      "  results = results.append(d, ignore_index=True)\n"
     ]
    },
    {
     "name": "stdout",
     "output_type": "stream",
     "text": [
      "[0.64 0.7  0.8  0.76 0.8  0.92 0.92 0.86 0.98 0.9 ]\n"
     ]
    },
    {
     "name": "stderr",
     "output_type": "stream",
     "text": [
      "C:\\Users\\meuli\\AppData\\Local\\Temp\\ipykernel_24836\\1317973755.py:165: FutureWarning: The frame.append method is deprecated and will be removed from pandas in a future version. Use pandas.concat instead.\n",
      "  results = results.append(d, ignore_index=True)\n"
     ]
    },
    {
     "name": "stdout",
     "output_type": "stream",
     "text": [
      "[0.66 0.68 0.84 0.74 0.84 0.94 0.94 0.86 0.98 0.88]\n",
      "500 CV Perceptrons: 10\n"
     ]
    },
    {
     "name": "stderr",
     "output_type": "stream",
     "text": [
      "C:\\Users\\meuli\\AppData\\Local\\Temp\\ipykernel_24836\\1317973755.py:165: FutureWarning: The frame.append method is deprecated and will be removed from pandas in a future version. Use pandas.concat instead.\n",
      "  results = results.append(d, ignore_index=True)\n",
      "C:\\Users\\meuli\\AppData\\Local\\Temp\\ipykernel_24836\\3159707208.py:32: FutureWarning: The frame.append method is deprecated and will be removed from pandas in a future version. Use pandas.concat instead.\n",
      "  final_results = final_results.append(results, ignore_index=True)\n"
     ]
    },
    {
     "name": "stdout",
     "output_type": "stream",
     "text": [
      "[0.04 0.   0.6  0.   0.74 0.41 0.4  0.72 0.85 0.79]\n"
     ]
    },
    {
     "name": "stderr",
     "output_type": "stream",
     "text": [
      "C:\\Users\\meuli\\AppData\\Local\\Temp\\ipykernel_24836\\1317973755.py:165: FutureWarning: The frame.append method is deprecated and will be removed from pandas in a future version. Use pandas.concat instead.\n",
      "  results = results.append(d, ignore_index=True)\n"
     ]
    },
    {
     "name": "stdout",
     "output_type": "stream",
     "text": [
      "[0.41 0.28 0.74 0.93 0.88 0.   0.37 0.89 0.92 0.84]\n"
     ]
    },
    {
     "name": "stderr",
     "output_type": "stream",
     "text": [
      "C:\\Users\\meuli\\AppData\\Local\\Temp\\ipykernel_24836\\1317973755.py:165: FutureWarning: The frame.append method is deprecated and will be removed from pandas in a future version. Use pandas.concat instead.\n",
      "  results = results.append(d, ignore_index=True)\n"
     ]
    },
    {
     "name": "stdout",
     "output_type": "stream",
     "text": [
      "[0.6  0.51 0.81 0.76 0.81 0.89 0.98 0.92 0.91 0.89]\n"
     ]
    },
    {
     "name": "stderr",
     "output_type": "stream",
     "text": [
      "C:\\Users\\meuli\\AppData\\Local\\Temp\\ipykernel_24836\\1317973755.py:165: FutureWarning: The frame.append method is deprecated and will be removed from pandas in a future version. Use pandas.concat instead.\n",
      "  results = results.append(d, ignore_index=True)\n"
     ]
    },
    {
     "name": "stdout",
     "output_type": "stream",
     "text": [
      "[0.46 0.56 0.73 0.79 0.72 0.96 0.98 0.94 0.91 0.89]\n"
     ]
    },
    {
     "name": "stderr",
     "output_type": "stream",
     "text": [
      "C:\\Users\\meuli\\AppData\\Local\\Temp\\ipykernel_24836\\1317973755.py:165: FutureWarning: The frame.append method is deprecated and will be removed from pandas in a future version. Use pandas.concat instead.\n",
      "  results = results.append(d, ignore_index=True)\n"
     ]
    },
    {
     "name": "stdout",
     "output_type": "stream",
     "text": [
      "[0.54 0.51 0.81 0.77 0.74 0.96 0.91 0.94 0.91 0.88]\n"
     ]
    },
    {
     "name": "stderr",
     "output_type": "stream",
     "text": [
      "C:\\Users\\meuli\\AppData\\Local\\Temp\\ipykernel_24836\\1317973755.py:165: FutureWarning: The frame.append method is deprecated and will be removed from pandas in a future version. Use pandas.concat instead.\n",
      "  results = results.append(d, ignore_index=True)\n"
     ]
    },
    {
     "name": "stdout",
     "output_type": "stream",
     "text": [
      "[0.6  0.54 0.79 0.71 0.77 0.93 0.98 0.94 0.91 0.88]\n"
     ]
    },
    {
     "name": "stderr",
     "output_type": "stream",
     "text": [
      "C:\\Users\\meuli\\AppData\\Local\\Temp\\ipykernel_24836\\1317973755.py:165: FutureWarning: The frame.append method is deprecated and will be removed from pandas in a future version. Use pandas.concat instead.\n",
      "  results = results.append(d, ignore_index=True)\n"
     ]
    },
    {
     "name": "stdout",
     "output_type": "stream",
     "text": [
      "[0.58 0.5  0.77 0.74 0.85 0.94 0.98 0.94 0.91 0.89]\n"
     ]
    },
    {
     "name": "stderr",
     "output_type": "stream",
     "text": [
      "C:\\Users\\meuli\\AppData\\Local\\Temp\\ipykernel_24836\\1317973755.py:165: FutureWarning: The frame.append method is deprecated and will be removed from pandas in a future version. Use pandas.concat instead.\n",
      "  results = results.append(d, ignore_index=True)\n"
     ]
    },
    {
     "name": "stdout",
     "output_type": "stream",
     "text": [
      "[0.58 0.54 0.81 0.71 0.8  0.94 0.97 0.93 0.91 0.9 ]\n"
     ]
    },
    {
     "name": "stderr",
     "output_type": "stream",
     "text": [
      "C:\\Users\\meuli\\AppData\\Local\\Temp\\ipykernel_24836\\1317973755.py:165: FutureWarning: The frame.append method is deprecated and will be removed from pandas in a future version. Use pandas.concat instead.\n",
      "  results = results.append(d, ignore_index=True)\n"
     ]
    },
    {
     "name": "stdout",
     "output_type": "stream",
     "text": [
      "[0.59 0.58 0.73 0.79 0.74 0.93 0.97 0.92 0.89 0.88]\n"
     ]
    },
    {
     "name": "stderr",
     "output_type": "stream",
     "text": [
      "C:\\Users\\meuli\\AppData\\Local\\Temp\\ipykernel_24836\\1317973755.py:165: FutureWarning: The frame.append method is deprecated and will be removed from pandas in a future version. Use pandas.concat instead.\n",
      "  results = results.append(d, ignore_index=True)\n"
     ]
    },
    {
     "name": "stdout",
     "output_type": "stream",
     "text": [
      "[0.62 0.52 0.76 0.73 0.81 0.94 0.99 0.94 0.91 0.88]\n",
      "1000 CV Perceptrons: 7\n"
     ]
    },
    {
     "name": "stderr",
     "output_type": "stream",
     "text": [
      "C:\\Users\\meuli\\AppData\\Local\\Temp\\ipykernel_24836\\1317973755.py:165: FutureWarning: The frame.append method is deprecated and will be removed from pandas in a future version. Use pandas.concat instead.\n",
      "  results = results.append(d, ignore_index=True)\n",
      "C:\\Users\\meuli\\AppData\\Local\\Temp\\ipykernel_24836\\3159707208.py:38: FutureWarning: The frame.append method is deprecated and will be removed from pandas in a future version. Use pandas.concat instead.\n",
      "  final_results = final_results.append(results, ignore_index=True)\n"
     ]
    },
    {
     "name": "stdout",
     "output_type": "stream",
     "text": [
      "[0.    0.    0.605 0.945 0.735 0.065 0.    0.75  0.935 0.885]\n"
     ]
    },
    {
     "name": "stderr",
     "output_type": "stream",
     "text": [
      "C:\\Users\\meuli\\AppData\\Local\\Temp\\ipykernel_24836\\1317973755.py:165: FutureWarning: The frame.append method is deprecated and will be removed from pandas in a future version. Use pandas.concat instead.\n",
      "  results = results.append(d, ignore_index=True)\n"
     ]
    },
    {
     "name": "stdout",
     "output_type": "stream",
     "text": [
      "[0.165 0.58  0.76  0.725 0.91  0.86  0.86  0.915 0.915 0.325]\n"
     ]
    },
    {
     "name": "stderr",
     "output_type": "stream",
     "text": [
      "C:\\Users\\meuli\\AppData\\Local\\Temp\\ipykernel_24836\\1317973755.py:165: FutureWarning: The frame.append method is deprecated and will be removed from pandas in a future version. Use pandas.concat instead.\n",
      "  results = results.append(d, ignore_index=True)\n"
     ]
    },
    {
     "name": "stdout",
     "output_type": "stream",
     "text": [
      "[0.625 0.675 0.75  0.795 0.86  0.97  0.98  0.95  0.91  0.85 ]\n"
     ]
    },
    {
     "name": "stderr",
     "output_type": "stream",
     "text": [
      "C:\\Users\\meuli\\AppData\\Local\\Temp\\ipykernel_24836\\1317973755.py:165: FutureWarning: The frame.append method is deprecated and will be removed from pandas in a future version. Use pandas.concat instead.\n",
      "  results = results.append(d, ignore_index=True)\n"
     ]
    },
    {
     "name": "stdout",
     "output_type": "stream",
     "text": [
      "[0.625 0.635 0.68  0.83  0.805 0.945 0.99  0.95  0.905 0.885]\n"
     ]
    },
    {
     "name": "stderr",
     "output_type": "stream",
     "text": [
      "C:\\Users\\meuli\\AppData\\Local\\Temp\\ipykernel_24836\\1317973755.py:165: FutureWarning: The frame.append method is deprecated and will be removed from pandas in a future version. Use pandas.concat instead.\n",
      "  results = results.append(d, ignore_index=True)\n"
     ]
    },
    {
     "name": "stdout",
     "output_type": "stream",
     "text": [
      "[0.575 0.65  0.72  0.815 0.825 0.95  0.985 0.95  0.875 0.855]\n"
     ]
    },
    {
     "name": "stderr",
     "output_type": "stream",
     "text": [
      "C:\\Users\\meuli\\AppData\\Local\\Temp\\ipykernel_24836\\1317973755.py:165: FutureWarning: The frame.append method is deprecated and will be removed from pandas in a future version. Use pandas.concat instead.\n",
      "  results = results.append(d, ignore_index=True)\n"
     ]
    },
    {
     "name": "stdout",
     "output_type": "stream",
     "text": [
      "[0.61  0.615 0.745 0.86  0.76  0.935 0.985 0.95  0.9   0.875]\n"
     ]
    },
    {
     "name": "stderr",
     "output_type": "stream",
     "text": [
      "C:\\Users\\meuli\\AppData\\Local\\Temp\\ipykernel_24836\\1317973755.py:165: FutureWarning: The frame.append method is deprecated and will be removed from pandas in a future version. Use pandas.concat instead.\n",
      "  results = results.append(d, ignore_index=True)\n"
     ]
    },
    {
     "name": "stdout",
     "output_type": "stream",
     "text": [
      "[0.575 0.625 0.73  0.82  0.815 0.96  0.995 0.955 0.905 0.875]\n"
     ]
    },
    {
     "name": "stderr",
     "output_type": "stream",
     "text": [
      "C:\\Users\\meuli\\AppData\\Local\\Temp\\ipykernel_24836\\1317973755.py:165: FutureWarning: The frame.append method is deprecated and will be removed from pandas in a future version. Use pandas.concat instead.\n",
      "  results = results.append(d, ignore_index=True)\n"
     ]
    },
    {
     "name": "stdout",
     "output_type": "stream",
     "text": [
      "[0.575 0.63  0.74  0.82  0.82  0.98  0.965 0.965 0.89  0.855]\n"
     ]
    },
    {
     "name": "stderr",
     "output_type": "stream",
     "text": [
      "C:\\Users\\meuli\\AppData\\Local\\Temp\\ipykernel_24836\\1317973755.py:165: FutureWarning: The frame.append method is deprecated and will be removed from pandas in a future version. Use pandas.concat instead.\n",
      "  results = results.append(d, ignore_index=True)\n"
     ]
    },
    {
     "name": "stdout",
     "output_type": "stream",
     "text": [
      "[0.595 0.62  0.76  0.83  0.83  0.975 0.985 0.96  0.905 0.875]\n"
     ]
    },
    {
     "name": "stderr",
     "output_type": "stream",
     "text": [
      "C:\\Users\\meuli\\AppData\\Local\\Temp\\ipykernel_24836\\1317973755.py:165: FutureWarning: The frame.append method is deprecated and will be removed from pandas in a future version. Use pandas.concat instead.\n",
      "  results = results.append(d, ignore_index=True)\n"
     ]
    },
    {
     "name": "stdout",
     "output_type": "stream",
     "text": [
      "[0.64  0.615 0.76  0.86  0.805 0.965 0.985 0.955 0.9   0.875]\n",
      "2000 CV Perceptrons: 3\n"
     ]
    },
    {
     "name": "stderr",
     "output_type": "stream",
     "text": [
      "C:\\Users\\meuli\\AppData\\Local\\Temp\\ipykernel_24836\\1317973755.py:165: FutureWarning: The frame.append method is deprecated and will be removed from pandas in a future version. Use pandas.concat instead.\n",
      "  results = results.append(d, ignore_index=True)\n",
      "C:\\Users\\meuli\\AppData\\Local\\Temp\\ipykernel_24836\\3159707208.py:44: FutureWarning: The frame.append method is deprecated and will be removed from pandas in a future version. Use pandas.concat instead.\n",
      "  final_results = final_results.append(results, ignore_index=True)\n"
     ]
    },
    {
     "name": "stdout",
     "output_type": "stream",
     "text": [
      "[0.    0.12  0.54  0.736 0.656 0.254 0.232 0.788 0.732 0.714]\n"
     ]
    },
    {
     "name": "stderr",
     "output_type": "stream",
     "text": [
      "C:\\Users\\meuli\\AppData\\Local\\Temp\\ipykernel_24836\\1317973755.py:165: FutureWarning: The frame.append method is deprecated and will be removed from pandas in a future version. Use pandas.concat instead.\n",
      "  results = results.append(d, ignore_index=True)\n"
     ]
    },
    {
     "name": "stdout",
     "output_type": "stream",
     "text": [
      "[0.42  0.418 0.75  0.678 0.708 0.914 0.876 0.898 0.878 0.878]\n"
     ]
    },
    {
     "name": "stderr",
     "output_type": "stream",
     "text": [
      "C:\\Users\\meuli\\AppData\\Local\\Temp\\ipykernel_24836\\1317973755.py:165: FutureWarning: The frame.append method is deprecated and will be removed from pandas in a future version. Use pandas.concat instead.\n",
      "  results = results.append(d, ignore_index=True)\n"
     ]
    },
    {
     "name": "stdout",
     "output_type": "stream",
     "text": [
      "[0.664 0.674 0.75  0.756 0.766 0.994 0.916 0.936 0.874 0.888]\n"
     ]
    },
    {
     "name": "stderr",
     "output_type": "stream",
     "text": [
      "C:\\Users\\meuli\\AppData\\Local\\Temp\\ipykernel_24836\\1317973755.py:165: FutureWarning: The frame.append method is deprecated and will be removed from pandas in a future version. Use pandas.concat instead.\n",
      "  results = results.append(d, ignore_index=True)\n"
     ]
    },
    {
     "name": "stdout",
     "output_type": "stream",
     "text": [
      "[0.678 0.646 0.812 0.786 0.768 0.992 0.974 0.954 0.898 0.864]\n"
     ]
    },
    {
     "name": "stderr",
     "output_type": "stream",
     "text": [
      "C:\\Users\\meuli\\AppData\\Local\\Temp\\ipykernel_24836\\1317973755.py:165: FutureWarning: The frame.append method is deprecated and will be removed from pandas in a future version. Use pandas.concat instead.\n",
      "  results = results.append(d, ignore_index=True)\n"
     ]
    },
    {
     "name": "stdout",
     "output_type": "stream",
     "text": [
      "[0.678 0.674 0.814 0.79  0.776 0.992 0.974 0.956 0.892 0.892]\n"
     ]
    },
    {
     "name": "stderr",
     "output_type": "stream",
     "text": [
      "C:\\Users\\meuli\\AppData\\Local\\Temp\\ipykernel_24836\\1317973755.py:165: FutureWarning: The frame.append method is deprecated and will be removed from pandas in a future version. Use pandas.concat instead.\n",
      "  results = results.append(d, ignore_index=True)\n"
     ]
    },
    {
     "name": "stdout",
     "output_type": "stream",
     "text": [
      "[0.696 0.66  0.82  0.826 0.786 0.998 0.966 0.95  0.894 0.896]\n"
     ]
    },
    {
     "name": "stderr",
     "output_type": "stream",
     "text": [
      "C:\\Users\\meuli\\AppData\\Local\\Temp\\ipykernel_24836\\1317973755.py:165: FutureWarning: The frame.append method is deprecated and will be removed from pandas in a future version. Use pandas.concat instead.\n",
      "  results = results.append(d, ignore_index=True)\n"
     ]
    },
    {
     "name": "stdout",
     "output_type": "stream",
     "text": [
      "[0.67  0.68  0.822 0.814 0.812 0.994 0.966 0.95  0.894 0.898]\n"
     ]
    },
    {
     "name": "stderr",
     "output_type": "stream",
     "text": [
      "C:\\Users\\meuli\\AppData\\Local\\Temp\\ipykernel_24836\\1317973755.py:165: FutureWarning: The frame.append method is deprecated and will be removed from pandas in a future version. Use pandas.concat instead.\n",
      "  results = results.append(d, ignore_index=True)\n"
     ]
    },
    {
     "name": "stdout",
     "output_type": "stream",
     "text": [
      "[0.696 0.676 0.816 0.822 0.776 0.996 0.976 0.956 0.902 0.9  ]\n"
     ]
    },
    {
     "name": "stderr",
     "output_type": "stream",
     "text": [
      "C:\\Users\\meuli\\AppData\\Local\\Temp\\ipykernel_24836\\1317973755.py:165: FutureWarning: The frame.append method is deprecated and will be removed from pandas in a future version. Use pandas.concat instead.\n",
      "  results = results.append(d, ignore_index=True)\n"
     ]
    },
    {
     "name": "stdout",
     "output_type": "stream",
     "text": [
      "[0.706 0.688 0.814 0.8   0.804 0.994 0.978 0.952 0.896 0.896]\n"
     ]
    },
    {
     "name": "stderr",
     "output_type": "stream",
     "text": [
      "C:\\Users\\meuli\\AppData\\Local\\Temp\\ipykernel_24836\\1317973755.py:165: FutureWarning: The frame.append method is deprecated and will be removed from pandas in a future version. Use pandas.concat instead.\n",
      "  results = results.append(d, ignore_index=True)\n"
     ]
    },
    {
     "name": "stdout",
     "output_type": "stream",
     "text": [
      "[0.722 0.694 0.812 0.816 0.798 0.994 0.974 0.95  0.894 0.896]\n",
      "5000 CV Perceptrons: 10\n"
     ]
    },
    {
     "name": "stderr",
     "output_type": "stream",
     "text": [
      "C:\\Users\\meuli\\AppData\\Local\\Temp\\ipykernel_24836\\1317973755.py:165: FutureWarning: The frame.append method is deprecated and will be removed from pandas in a future version. Use pandas.concat instead.\n",
      "  results = results.append(d, ignore_index=True)\n",
      "C:\\Users\\meuli\\AppData\\Local\\Temp\\ipykernel_24836\\3159707208.py:50: FutureWarning: The frame.append method is deprecated and will be removed from pandas in a future version. Use pandas.concat instead.\n",
      "  final_results = final_results.append(results, ignore_index=True)\n"
     ]
    },
    {
     "name": "stdout",
     "output_type": "stream",
     "text": [
      "Model accuracy was 0.814\n"
     ]
    },
    {
     "name": "stderr",
     "output_type": "stream",
     "text": [
      "C:\\Users\\meuli\\AppData\\Local\\Temp\\ipykernel_24836\\3159707208.py:66: FutureWarning: The frame.append method is deprecated and will be removed from pandas in a future version. Use pandas.concat instead.\n",
      "  final_results = final_results.append({'Accuracy': accuracy, 'Training Dataset Size': training_size}, ignore_index=True)\n"
     ]
    },
    {
     "name": "stdout",
     "output_type": "stream",
     "text": [
      "Model accuracy was 0.819\n"
     ]
    },
    {
     "name": "stderr",
     "output_type": "stream",
     "text": [
      "C:\\Users\\meuli\\AppData\\Local\\Temp\\ipykernel_24836\\3159707208.py:74: FutureWarning: The frame.append method is deprecated and will be removed from pandas in a future version. Use pandas.concat instead.\n",
      "  final_results = final_results.append({'Accuracy': accuracy, 'Training Dataset Size': training_size}, ignore_index=True)\n"
     ]
    },
    {
     "name": "stdout",
     "output_type": "stream",
     "text": [
      "Model accuracy was 0.860\n"
     ]
    },
    {
     "name": "stderr",
     "output_type": "stream",
     "text": [
      "C:\\Users\\meuli\\AppData\\Local\\Temp\\ipykernel_24836\\3159707208.py:82: FutureWarning: The frame.append method is deprecated and will be removed from pandas in a future version. Use pandas.concat instead.\n",
      "  final_results = final_results.append({'Accuracy': accuracy, 'Training Dataset Size': training_size}, ignore_index=True)\n"
     ]
    },
    {
     "name": "stdout",
     "output_type": "stream",
     "text": [
      "Model accuracy was 0.866\n"
     ]
    },
    {
     "name": "stderr",
     "output_type": "stream",
     "text": [
      "C:\\Users\\meuli\\AppData\\Local\\Temp\\ipykernel_24836\\3159707208.py:90: FutureWarning: The frame.append method is deprecated and will be removed from pandas in a future version. Use pandas.concat instead.\n",
      "  final_results = final_results.append({'Accuracy': accuracy, 'Training Dataset Size': training_size}, ignore_index=True)\n"
     ]
    },
    {
     "name": "stdout",
     "output_type": "stream",
     "text": [
      "Model accuracy was 0.863\n"
     ]
    },
    {
     "name": "stderr",
     "output_type": "stream",
     "text": [
      "C:\\Users\\meuli\\AppData\\Local\\Temp\\ipykernel_24836\\3159707208.py:98: FutureWarning: The frame.append method is deprecated and will be removed from pandas in a future version. Use pandas.concat instead.\n",
      "  final_results = final_results.append({'Accuracy': accuracy, 'Training Dataset Size': training_size}, ignore_index=True)\n"
     ]
    },
    {
     "name": "stdout",
     "output_type": "stream",
     "text": [
      "Model accuracy was 0.887\n"
     ]
    },
    {
     "name": "stderr",
     "output_type": "stream",
     "text": [
      "C:\\Users\\meuli\\AppData\\Local\\Temp\\ipykernel_24836\\3159707208.py:106: FutureWarning: The frame.append method is deprecated and will be removed from pandas in a future version. Use pandas.concat instead.\n",
      "  final_results = final_results.append({'Accuracy': accuracy, 'Training Dataset Size': training_size}, ignore_index=True)\n"
     ]
    },
    {
     "name": "stdout",
     "output_type": "stream",
     "text": [
      "Theoretical optimal classification: 0.703\n"
     ]
    },
    {
     "name": "stderr",
     "output_type": "stream",
     "text": [
      "C:\\Users\\meuli\\AppData\\Local\\Temp\\ipykernel_24836\\1317973755.py:322: UserWarning: FixedFormatter should only be used together with FixedLocator\n",
      "  ax.set_yticklabels(['{:,.0%}'.format(x) for x in vals])\n"
     ]
    },
    {
     "data": {
      "text/plain": [
       "<Figure size 360x360 with 0 Axes>"
      ]
     },
     "metadata": {},
     "output_type": "display_data"
    },
    {
     "data": {
      "text/plain": [
       "<Figure size 360x360 with 0 Axes>"
      ]
     },
     "metadata": {},
     "output_type": "display_data"
    },
    {
     "data": {
      "text/plain": [
       "<Figure size 360x360 with 0 Axes>"
      ]
     },
     "metadata": {},
     "output_type": "display_data"
    },
    {
     "data": {
      "text/plain": [
       "<Figure size 360x360 with 0 Axes>"
      ]
     },
     "metadata": {},
     "output_type": "display_data"
    },
    {
     "data": {
      "text/plain": [
       "<Figure size 360x360 with 0 Axes>"
      ]
     },
     "metadata": {},
     "output_type": "display_data"
    },
    {
     "data": {
      "text/plain": [
       "<Figure size 360x360 with 0 Axes>"
      ]
     },
     "metadata": {},
     "output_type": "display_data"
    },
    {
     "data": {
      "text/plain": [
       "<Figure size 360x360 with 0 Axes>"
      ]
     },
     "metadata": {},
     "output_type": "display_data"
    }
   ],
   "source": [
    "\n",
    "# Find optimal hyperparameters\n",
    "final_results = pd.DataFrame()\n",
    "n_perceptrons, results = cross_validation(train0, k=10, verbose=False)\n",
    "print(\"100 CV Perceptrons: %d\"%n_perceptrons)\n",
    "results.to_csv('./q1_cv_results_100.csv')\n",
    "results[\"Training Dataset Size\"] = 100\n",
    "final_results = final_results.append(results, ignore_index=True)\n",
    "\n",
    "n_perceptrons, results = cross_validation(train1, k=10, verbose=False)\n",
    "print(\"200 CV Perceptrons: %d\"%n_perceptrons)\n",
    "results.to_csv('./q1_cv_results_200.csv')\n",
    "results[\"Training Dataset Size\"] = 200\n",
    "final_results = final_results.append(results, ignore_index=True)\n",
    "\n",
    "n_perceptrons, results = cross_validation(train2, k=10, verbose=False)\n",
    "print(\"500 CV Perceptrons: %d\"%n_perceptrons)\n",
    "results.to_csv('./q1_cv_results_500.csv')\n",
    "results[\"Training Dataset Size\"] = 500\n",
    "final_results = final_results.append(results, ignore_index=True)\n",
    "\n",
    "n_perceptrons, results = cross_validation(train3, k=10, verbose=False)\n",
    "print(\"1000 CV Perceptrons: %d\"%n_perceptrons)\n",
    "results.to_csv('./q1_cv_results_1000.csv')\n",
    "results[\"Training Dataset Size\"] = 1000\n",
    "final_results = final_results.append(results, ignore_index=True)\n",
    "\n",
    "n_perceptrons, results = cross_validation(train4, k=10, verbose=False)\n",
    "print(\"2000 CV Perceptrons: %d\"%n_perceptrons)\n",
    "results.to_csv('./q1_cv_results_2000.csv')\n",
    "results[\"Training Dataset Size\"] = 2000\n",
    "final_results = final_results.append(results, ignore_index=True)\n",
    "\n",
    "n_perceptrons, results = cross_validation(train5, k=10, verbose=False)\n",
    "print(\"5000 CV Perceptrons: %d\"%n_perceptrons)\n",
    "results.to_csv('./q1_cv_results_5000.csv')\n",
    "results[\"Training Dataset Size\"] = 5000\n",
    "final_results = final_results.append(results, ignore_index=True)\n",
    "\n",
    "final_results.to_csv('./q1_cv_results_overall.csv')\n",
    "# Plot how accuracy changes with perceptron hyperparameter changes\n",
    "data = pd.read_csv('./q1_cv_results_overall.csv', index_col=0)\n",
    "plot_cross_validation_results(data)\n",
    "\n",
    "# Choose minimal error number of perceptrons\n",
    "final_results = pd.DataFrame()\n",
    "\n",
    "training_size = 100\n",
    "df = pd.read_csv('./q1_cv_results_%d.csv'%training_size, index_col=0)\n",
    "df = df.sort_values(by='Mean Probability of Error Score').iloc[0]\n",
    "p = df['Number of Perceptrons']\n",
    "results = test_hyperparameters(train0, test, p)\n",
    "accuracy = plot_model_results(results, training_size)\n",
    "final_results = final_results.append({'Accuracy': accuracy, 'Training Dataset Size': training_size}, ignore_index=True)\n",
    "\n",
    "training_size = 200\n",
    "df = pd.read_csv('./q1_cv_results_%d.csv'%training_size, index_col=0)\n",
    "df = df.sort_values(by='Mean Probability of Error Score').iloc[0]\n",
    "p = df['Number of Perceptrons']\n",
    "results = test_hyperparameters(train1, test, p)\n",
    "accuracy = plot_model_results(results, training_size)\n",
    "final_results = final_results.append({'Accuracy': accuracy, 'Training Dataset Size': training_size}, ignore_index=True)\n",
    "\n",
    "training_size = 500\n",
    "df = pd.read_csv('./q1_cv_results_%d.csv'%training_size, index_col=0)\n",
    "df = df.sort_values(by='Mean Probability of Error Score').iloc[0]\n",
    "p = df['Number of Perceptrons']\n",
    "results = test_hyperparameters(train2, test, p)\n",
    "accuracy = plot_model_results(results, training_size)\n",
    "final_results = final_results.append({'Accuracy': accuracy, 'Training Dataset Size': training_size}, ignore_index=True)\n",
    "\n",
    "training_size = 1000\n",
    "df = pd.read_csv('./q1_cv_results_%d.csv'%training_size, index_col=0)\n",
    "df = df.sort_values(by='Mean Probability of Error Score').iloc[0]\n",
    "p = df['Number of Perceptrons']\n",
    "results = test_hyperparameters(train3, test, p)\n",
    "accuracy = plot_model_results(results, training_size)\n",
    "final_results = final_results.append({'Accuracy': accuracy, 'Training Dataset Size': training_size}, ignore_index=True)\n",
    "\n",
    "training_size = 2000\n",
    "df = pd.read_csv('./q1_cv_results_%d.csv'%training_size, index_col=0)\n",
    "df = df.sort_values(by='Mean Probability of Error Score').iloc[0]\n",
    "p = df['Number of Perceptrons']\n",
    "results = test_hyperparameters(train4, test, p)\n",
    "accuracy = plot_model_results(results, training_size)\n",
    "final_results = final_results.append({'Accuracy': accuracy, 'Training Dataset Size': training_size}, ignore_index=True)\n",
    "\n",
    "training_size = 5000\n",
    "df = pd.read_csv('./q1_cv_results_%d.csv'%training_size, index_col=0)\n",
    "df = df.sort_values(by='Mean Probability of Error Score').iloc[0]\n",
    "p = df['Number of Perceptrons']\n",
    "results = test_hyperparameters(train5, test, p)\n",
    "accuracy = plot_model_results(results, training_size)\n",
    "final_results = final_results.append({'Accuracy': accuracy, 'Training Dataset Size': training_size}, ignore_index=True)\n",
    "\n",
    "final_results.to_csv('./q1_model_accuracy.csv')\n",
    "\n",
    "data = pd.read_csv('./q1_model_accuracy.csv', index_col=0)\n",
    "plot_accuracy(data,test)"
   ]
  },
  {
   "cell_type": "code",
   "execution_count": null,
   "metadata": {},
   "outputs": [],
   "source": []
  }
 ],
 "metadata": {
  "interpreter": {
   "hash": "17b4c01959b763961e65029bfd8cfa288ed8d0492d779c607a82e02daf2d74ec"
  },
  "kernelspec": {
   "display_name": "Python 3.9.12 ('base')",
   "language": "python",
   "name": "python3"
  },
  "language_info": {
   "codemirror_mode": {
    "name": "ipython",
    "version": 3
   },
   "file_extension": ".py",
   "mimetype": "text/x-python",
   "name": "python",
   "nbconvert_exporter": "python",
   "pygments_lexer": "ipython3",
   "version": "3.9.12"
  },
  "orig_nbformat": 4
 },
 "nbformat": 4,
 "nbformat_minor": 2
}
