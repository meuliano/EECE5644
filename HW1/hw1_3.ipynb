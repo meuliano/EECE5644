{
 "cells": [
  {
   "cell_type": "code",
   "execution_count": 1,
   "metadata": {},
   "outputs": [],
   "source": [
    "from pandas import read_csv\n",
    "import matplotlib.pyplot as plt #General Plotting\n",
    "import numpy as np\n",
    "from scipy.stats import multivariate_normal\n",
    "from sklearn.metrics import confusion_matrix\n"
   ]
  },
  {
   "cell_type": "code",
   "execution_count": 7,
   "metadata": {},
   "outputs": [
    {
     "name": "stdout",
     "output_type": "stream",
     "text": [
      "Valid Classes:  [3 4 5 6 7 8 9]\n",
      "Num samples:  4898\n",
      "Num Class Labels:  [  20  163 1457 2198  880  175    5]\n",
      "Priors:  [0.0040833  0.03327889 0.29746835 0.44875459 0.17966517 0.03572887\n",
      " 0.00102082]\n"
     ]
    }
   ],
   "source": [
    "# fixed acidity;\"volatile acidity\";\"citric acid\";\"residual sugar\";\"chlorides\";\"free sulfur dioxide\";\"total sulfur dioxide\";\"density\";\"pH\";\"sulphates\";\"alcohol\";\"quality\"\n",
    "winedata = read_csv('winequality-white.csv', sep = ';')\n",
    "labels = np.array(winedata[winedata.columns[11]])\n",
    "valid_classes = np.array([3, 4, 5, 6, 7, 8, 9])\n",
    "print(\"Valid Classes: \", valid_classes)\n",
    "\n",
    "X = np.array(winedata[winedata.columns[0:11]])\n",
    "N = len(labels)\n",
    "print(\"Num samples: \", N)\n",
    "\n",
    "N_cl = np.array([X[labels == i].shape[0] for i in valid_classes])\n",
    "print(\"Num Class Labels: \", N_cl)\n",
    "\n",
    "priors = np.array(N_cl/N)\n",
    "print(\"Priors: \", priors)\n",
    "\n",
    "C = len(priors)\n",
    "\n",
    "# First derive sample-based estimates of mean vector and covariance matrix:\n",
    "#mu_hat = np.mean(X, axis=0)\n",
    "mu_hat = np.array([np.mean(X[labels == i], axis = 0) for i in valid_classes]) # No labelled samples for 0, 1, 2, 10!\n",
    "\n",
    "# Small regularization term\n",
    "reg = 0.1*np.identity(11) #7x11\n",
    "\n",
    "Sigma_hat = np.array([np.cov(X[labels == i].T) + reg for i in valid_classes]) #7x11x11\n"
   ]
  },
  {
   "cell_type": "code",
   "execution_count": null,
   "metadata": {},
   "outputs": [],
   "source": [
    "\n",
    "class_cond_likelihoods = np.array([multivariate_normal.pdf(X, mu_hat[c], Sigma_hat[c]) for c in range(len(valid_classes))])\n",
    "priors_diag = np.diag(priors)\n",
    "class_posteriors = priors_diag.dot(class_cond_likelihoods)\n",
    "\n",
    "decisions = np.argmax(class_posteriors, axis = 0) \n",
    "decisions = np.array([i + valid_classes[0] for i in decisions]) # labels start at 3...\n",
    "print(decisions.shape)\n",
    "print(valid_classes.shape)\n",
    "\n",
    "conf_matrix = confusion_matrix(decisions, labels)\n",
    "print(conf_matrix)\n",
    "\n",
    "errors = len(np.argwhere(decisions != labels))\n",
    "print('Errors', errors, \"Est P(error)\", errors/N)"
   ]
  },
  {
   "cell_type": "code",
   "execution_count": null,
   "metadata": {},
   "outputs": [],
   "source": [
    "# Plot for original data and their true labels\n",
    "fig = plt.figure(figsize=(10, 10))\n",
    "marker_shapes = '....'\n",
    "marker_colors = 'rbgy' \n",
    "\n",
    "for i in range(C):\n",
    "\n",
    "    # Find indices of u that meet each prior\n",
    "    indices = np.argwhere((thresholds[i] <= u) & (u <= thresholds[i+1]))[:, 0]\n",
    "\n",
    "    # Get the number of indices in each component - should be ~ 6500 and 3500\n",
    "    Nl = len(indices)\n",
    "    \n",
    "    # set label vector based on above - will be vector of class labels [0 0 1 0 1 .. to 9999] in this case\n",
    "    # for more classes, this can be [1 2 2 0 1 3 1 3 0 ...]\n",
    "    labels[indices] = i * np.ones(Nl)\n",
    "    \n",
    "    # for each valid index, fill the \n",
    "    X[indices, :] = multivariate_normal.rvs(mu[i], sigma[i], Nl)\n",
    "    plt.plot(X[labels==i, 0], X[labels==i, 1], marker_shapes[i-1] + marker_colors[i-1], label=\"True Class {}\".format(i))\n"
   ]
  },
  {
   "cell_type": "code",
   "execution_count": 2,
   "metadata": {},
   "outputs": [
    {
     "ename": "SyntaxError",
     "evalue": "invalid syntax (4024822515.py, line 8)",
     "output_type": "error",
     "traceback": [
      "\u001b[1;36m  Input \u001b[1;32mIn [2]\u001b[1;36m\u001b[0m\n\u001b[1;33m    ft1 = X_class ...\u001b[0m\n\u001b[1;37m                  ^\u001b[0m\n\u001b[1;31mSyntaxError\u001b[0m\u001b[1;31m:\u001b[0m invalid syntax\n"
     ]
    }
   ],
   "source": [
    "# Visualization Dataset\n",
    "fig = plt.figure(figsize=(10,10))\n",
    "ax = plt.axes(projection = \"3d\")\n",
    "\n",
    "for l in classes:\n",
    "    X_class = X[(labels == 1),:]\n",
    "    ft0 = X_class[:,0]\n",
    "    ft1 = X_class ...\n",
    "\n",
    "\n",
    "    plt.ylabel(\"z2\")\n",
    "    plt.legend()\n",
    "    plt.title(\"PCA projections to 3D space\")\n",
    "    plt.show()\n",
    "\n",
    "\n",
    "\n"
   ]
  },
  {
   "cell_type": "code",
   "execution_count": null,
   "metadata": {},
   "outputs": [],
   "source": [
    "# ...\n",
    "\n",
    "cd = np.argwh"
   ]
  },
  {
   "cell_type": "code",
   "execution_count": null,
   "metadata": {},
   "outputs": [],
   "source": []
  },
  {
   "cell_type": "code",
   "execution_count": null,
   "metadata": {},
   "outputs": [],
   "source": [
    "# fixed acidity;\"volatile acidity\";\"citric acid\";\"residual sugar\";\"chlorides\";\"free sulfur dioxide\";\"total sulfur dioxide\";\"density\";\"pH\";\"sulphates\";\"alcohol\";\"quality\"\n",
    "winedata = read_csv('winequality-white.csv', sep = ';')\n",
    "print(winedata.shape) # (4898, 12)\n",
    "labels = np.array(winedata[winedata.columns[11]])\n",
    "\n",
    "X = np.array(winedata[winedata.columns[0:11]])\n",
    "N = len(labels)\n",
    "\n",
    "# Find Class Statistics\n",
    "classes, nclass = np.unique(labels, return_counts = True)\n",
    "C = len(classes)\n",
    "priors = nclass/N\n",
    "class_means = np.array([np.mean(X[np.argwhere(labels == c)], axis = 0) for c in classes])\n",
    "class_cov = np.array([np.cov(X[labels == c].T) for c in classes])\n",
    "# print(class_cov[4])\n",
    "# Regularization\n",
    "evals, _ = np.linalg.eig(np.cov(X.T))\n",
    "reg = np.mean(evals)\n",
    "print(reg)\n",
    "\n",
    "# Minimum Error Classification\n",
    "mu = class_means.reshape(C,11)\n",
    "Sigma = class_cov + reg*np.identity(11)\n",
    "\n",
    "class_cond_likelihoods = np.array([multivariate_normal.pdf(X, mu[c], Sigma[c]) for c in range(C)])\n",
    "priors_diag = np.diag(priors)\n",
    "class_posteriors = priors_diag.dot(class_cond_likelihoods)\n",
    "\n",
    "decisions = np.argmax(class_posteriors, axis = 0) + np.min(classes)*np.ones(N) # account for classes starting from 3\n",
    "\n",
    "print(decisions.shape)\n",
    "print(labels.shape)\n",
    "\n",
    "conf_matrix = confusion_matrix(decisions, labels)\n",
    "print(conf_matrix)\n",
    "\n",
    "errors = len(np.argwhere(decisions != labels))\n",
    "print('Errors', errors, \"Est P(error)\", errors/N)\n"
   ]
  }
 ],
 "metadata": {
  "interpreter": {
   "hash": "17b4c01959b763961e65029bfd8cfa288ed8d0492d779c607a82e02daf2d74ec"
  },
  "kernelspec": {
   "display_name": "Python 3.9.12 ('base')",
   "language": "python",
   "name": "python3"
  },
  "language_info": {
   "codemirror_mode": {
    "name": "ipython",
    "version": 3
   },
   "file_extension": ".py",
   "mimetype": "text/x-python",
   "name": "python",
   "nbconvert_exporter": "python",
   "pygments_lexer": "ipython3",
   "version": "3.9.12"
  },
  "orig_nbformat": 4
 },
 "nbformat": 4,
 "nbformat_minor": 2
}
