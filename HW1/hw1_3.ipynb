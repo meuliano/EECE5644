{
 "cells": [
  {
   "cell_type": "code",
   "execution_count": 1,
   "metadata": {},
   "outputs": [
    {
     "ename": "NameError",
     "evalue": "name 'pandas' is not defined",
     "output_type": "error",
     "traceback": [
      "\u001b[1;31m---------------------------------------------------------------------------\u001b[0m",
      "\u001b[1;31mNameError\u001b[0m                                 Traceback (most recent call last)",
      "\u001b[1;32mc:\\Users\\meuli\\Desktop\\ML\\EECE5644\\HW1\\hw1_3.ipynb Cell 1'\u001b[0m in \u001b[0;36m<cell line: 1>\u001b[1;34m()\u001b[0m\n\u001b[1;32m----> <a href='vscode-notebook-cell:/c%3A/Users/meuli/Desktop/ML/EECE5644/HW1/hw1_3.ipynb#ch0000000?line=0'>1</a>\u001b[0m winedata \u001b[39m=\u001b[39m pandas\u001b[39m.\u001b[39mread_csv(\u001b[39m'\u001b[39m\u001b[39mwinequality-white.csv\u001b[39m\u001b[39m'\u001b[39m, sep \u001b[39m=\u001b[39m \u001b[39m'\u001b[39m\u001b[39m;\u001b[39m\u001b[39m'\u001b[39m)\n\u001b[0;32m      <a href='vscode-notebook-cell:/c%3A/Users/meuli/Desktop/ML/EECE5644/HW1/hw1_3.ipynb#ch0000000?line=1'>2</a>\u001b[0m labels \u001b[39m=\u001b[39m winedata[winedata\u001b[39m.\u001b[39mcolumns[\u001b[39m11\u001b[39m]]\n\u001b[0;32m      <a href='vscode-notebook-cell:/c%3A/Users/meuli/Desktop/ML/EECE5644/HW1/hw1_3.ipynb#ch0000000?line=2'>3</a>\u001b[0m lables \u001b[39m=\u001b[39m np\u001b[39m.\u001b[39marray(labels)\n",
      "\u001b[1;31mNameError\u001b[0m: name 'pandas' is not defined"
     ]
    }
   ],
   "source": [
    "winedata = pandas.read_csv('winequality-white.csv', sep = ';')\n",
    "labels = winedata[winedata.columns[11]]\n",
    "lables = np.array(labels)\n",
    "\n",
    "X = winedata[winedata.columns[0:11]]\n",
    "X = np.array(X)\n",
    "N = len(lables)\n",
    "\n",
    "# Find Class Statistics\n",
    "classes, nclass = np.unique(labels, return_counts = True)\n",
    "C = len(classes)\n",
    "priors = nclass/N\n",
    "class_means = np.array([np.mean(X[np.argwhere(labels == c)], axis = 0) for c in classes])\n",
    "class_cov = np.array([np.cov(X[labels == c].T) for c in classes])\n",
    "\n",
    "# Regularization\n",
    "evals, _ = np.linalg.eig(np.cov(X.T))\n",
    "reg = np.mean(evals)\n",
    "\n",
    "# Minimum Error Classification\n",
    "mu = class_means.reshape(C,11)\n",
    "Sigma = class_cov + reg*np.identity(11)\n",
    "\n",
    "class_cond_likelihoods = np.array([multivariate_normal.pdf(X, mu[c], Sigma[c]) for c in range(C)])\n",
    "class_priors = np.diag(priors)\n",
    "class_posteriors = class_priors.dot(class_cond_likelihoods)\n",
    "\n",
    "decisions = np.argmax(class_posteriors, axis = 0) + np.min(classes)*np.ones(N) # account for classes starting from 3\n",
    "\n",
    "conf_matrix = confusion_matrix(decisions, labels)\n",
    "print(conf_matrix)\n",
    "\n",
    "errors = len(np.argwhere(decisions != labels))\n",
    "print('Errors', errors, \"Est P(error)\", errors/N)\n"
   ]
  },
  {
   "cell_type": "code",
   "execution_count": 2,
   "metadata": {},
   "outputs": [
    {
     "ename": "SyntaxError",
     "evalue": "invalid syntax (4024822515.py, line 8)",
     "output_type": "error",
     "traceback": [
      "\u001b[1;36m  Input \u001b[1;32mIn [2]\u001b[1;36m\u001b[0m\n\u001b[1;33m    ft1 = X_class ...\u001b[0m\n\u001b[1;37m                  ^\u001b[0m\n\u001b[1;31mSyntaxError\u001b[0m\u001b[1;31m:\u001b[0m invalid syntax\n"
     ]
    }
   ],
   "source": [
    "# Visualization Dataset\n",
    "fig = plt.figure(figsize=(10,10))\n",
    "ax = plt.axes(projection = \"3d\")\n",
    "\n",
    "for l in classes:\n",
    "    X_class = X[(labels == 1),:]\n",
    "    ft0 = X_class[:,0]\n",
    "    ft1 = X_class ...\n",
    "\n",
    "\n",
    "    plt.ylabel(\"z2\")\n",
    "    plt.legend()\n",
    "    plt.title(\"PCA projections to 3D space\")\n",
    "    plt.show()\n",
    "\n",
    "\n",
    "\n"
   ]
  },
  {
   "cell_type": "code",
   "execution_count": null,
   "metadata": {},
   "outputs": [],
   "source": [
    "# ...\n",
    "\n",
    "cd = np.argwh"
   ]
  }
 ],
 "metadata": {
  "interpreter": {
   "hash": "17b4c01959b763961e65029bfd8cfa288ed8d0492d779c607a82e02daf2d74ec"
  },
  "kernelspec": {
   "display_name": "Python 3.9.12 ('base')",
   "language": "python",
   "name": "python3"
  },
  "language_info": {
   "codemirror_mode": {
    "name": "ipython",
    "version": 3
   },
   "file_extension": ".py",
   "mimetype": "text/x-python",
   "name": "python",
   "nbconvert_exporter": "python",
   "pygments_lexer": "ipython3",
   "version": "3.9.12"
  },
  "orig_nbformat": 4
 },
 "nbformat": 4,
 "nbformat_minor": 2
}
