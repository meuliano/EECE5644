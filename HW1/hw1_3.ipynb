{
 "cells": [
  {
   "cell_type": "code",
   "execution_count": 1,
   "metadata": {},
   "outputs": [],
   "source": [
    "from pandas import read_csv\n",
    "import matplotlib.pyplot as plt #General Plotting\n",
    "import numpy as np\n",
    "from scipy.stats import multivariate_normal\n",
    "from sklearn.metrics import confusion_matrix\n"
   ]
  },
  {
   "cell_type": "code",
   "execution_count": 28,
   "metadata": {},
   "outputs": [
    {
     "name": "stdout",
     "output_type": "stream",
     "text": [
      "(4898, 12)\n",
      "4898\n",
      "Num Class Labels:  [  20  163 1457 2198  880  175    5]\n",
      "Priors:  [0.0040833  0.03327889 0.29746835 0.44875459 0.17966517 0.03572887\n",
      " 0.00102082]\n",
      "(7,)\n",
      "(7, 11)\n",
      "(7, 11, 11)\n",
      "[[0.0040833  0.         0.         0.         0.         0.\n",
      "  0.        ]\n",
      " [0.         0.03327889 0.         0.         0.         0.\n",
      "  0.        ]\n",
      " [0.         0.         0.29746835 0.         0.         0.\n",
      "  0.        ]\n",
      " [0.         0.         0.         0.44875459 0.         0.\n",
      "  0.        ]\n",
      " [0.         0.         0.         0.         0.17966517 0.\n",
      "  0.        ]\n",
      " [0.         0.         0.         0.         0.         0.03572887\n",
      "  0.        ]\n",
      " [0.         0.         0.         0.         0.         0.\n",
      "  0.00102082]]\n",
      "(4898,)\n",
      "(7,)\n",
      "[[   7    2    5   12    2    4    0]\n",
      " [   1    3    7    6    0    0    0]\n",
      " [   5  106  929  615  102   16    0]\n",
      " [   7   50  496 1339  471   79    2]\n",
      " [   0    2   19  226  302   73    3]\n",
      " [   0    0    1    0    3    3    0]\n",
      " [   0    0    0    0    0    0    0]]\n",
      "Errors 2315 Est P(error) 0.4726418946508779\n"
     ]
    }
   ],
   "source": [
    "# fixed acidity;\"volatile acidity\";\"citric acid\";\"residual sugar\";\"chlorides\";\"free sulfur dioxide\";\"total sulfur dioxide\";\"density\";\"pH\";\"sulphates\";\"alcohol\";\"quality\"\n",
    "winedata = read_csv('winequality-white.csv', sep = ';')\n",
    "print(winedata.shape) # (4898, 12)\n",
    "labels = np.array(winedata[winedata.columns[11]])\n",
    "valid_classes = np.array([3, 4, 5, 6, 7, 8, 9])\n",
    "\n",
    "X = np.array(winedata[winedata.columns[0:11]])\n",
    "N = len(labels)\n",
    "print(N)\n",
    "\n",
    "N_cl = np.array([X[labels == i].shape[0] for i in valid_classes])\n",
    "print(\"Num Class Labels: \", N_cl)\n",
    "\n",
    "priors = np.array(N_cl/N)\n",
    "print(\"Priors: \", priors)\n",
    "print(priors.shape)\n",
    "\n",
    "# First derive sample-based estimates of mean vector and covariance matrix:\n",
    "#mu_hat = np.mean(X, axis=0)\n",
    "mu_hat = np.array([np.mean(X[labels == i], axis = 0) for i in valid_classes]) # No labelled samples for 0, 1, 2, 10!\n",
    "print(mu_hat.shape)\n",
    "\n",
    "# Regularization\n",
    "# Regularization\n",
    "evals, _ = np.linalg.eig(np.cov(X.T))\n",
    "reg = np.mean(evals)\n",
    "\n",
    "Sigma_hat = np.array([np.cov(X[labels == i].T)+0.1*np.identity(11) for i in valid_classes]) \n",
    "print(Sigma_hat.shape)\n",
    "\n",
    "class_cond_likelihoods = np.array([multivariate_normal.pdf(X, mu_hat[c], Sigma_hat[c]) for c in range(len(valid_classes))])\n",
    "class_priors = np.diag(priors)\n",
    "print(class_priors)\n",
    "class_posteriors = class_priors.dot(class_cond_likelihoods)\n",
    "\n",
    "decisions = np.argmax(class_posteriors, axis = 0) # account for classes starting from 3\n",
    "decisions = np.array([i + 3 for i in decisions])\n",
    "print(decisions.shape)\n",
    "print(valid_classes.shape)\n",
    "\n",
    "conf_matrix = confusion_matrix(decisions, labels)\n",
    "print(conf_matrix)\n",
    "\n",
    "errors = len(np.argwhere(decisions != labels))\n",
    "print('Errors', errors, \"Est P(error)\", errors/N)"
   ]
  },
  {
   "cell_type": "code",
   "execution_count": 2,
   "metadata": {},
   "outputs": [
    {
     "ename": "SyntaxError",
     "evalue": "invalid syntax (4024822515.py, line 8)",
     "output_type": "error",
     "traceback": [
      "\u001b[1;36m  Input \u001b[1;32mIn [2]\u001b[1;36m\u001b[0m\n\u001b[1;33m    ft1 = X_class ...\u001b[0m\n\u001b[1;37m                  ^\u001b[0m\n\u001b[1;31mSyntaxError\u001b[0m\u001b[1;31m:\u001b[0m invalid syntax\n"
     ]
    }
   ],
   "source": [
    "# Visualization Dataset\n",
    "fig = plt.figure(figsize=(10,10))\n",
    "ax = plt.axes(projection = \"3d\")\n",
    "\n",
    "for l in classes:\n",
    "    X_class = X[(labels == 1),:]\n",
    "    ft0 = X_class[:,0]\n",
    "    ft1 = X_class ...\n",
    "\n",
    "\n",
    "    plt.ylabel(\"z2\")\n",
    "    plt.legend()\n",
    "    plt.title(\"PCA projections to 3D space\")\n",
    "    plt.show()\n",
    "\n",
    "\n",
    "\n"
   ]
  },
  {
   "cell_type": "code",
   "execution_count": null,
   "metadata": {},
   "outputs": [],
   "source": [
    "# ...\n",
    "\n",
    "cd = np.argwh"
   ]
  },
  {
   "cell_type": "code",
   "execution_count": null,
   "metadata": {},
   "outputs": [],
   "source": []
  },
  {
   "cell_type": "code",
   "execution_count": null,
   "metadata": {},
   "outputs": [],
   "source": [
    "# fixed acidity;\"volatile acidity\";\"citric acid\";\"residual sugar\";\"chlorides\";\"free sulfur dioxide\";\"total sulfur dioxide\";\"density\";\"pH\";\"sulphates\";\"alcohol\";\"quality\"\n",
    "winedata = read_csv('winequality-white.csv', sep = ';')\n",
    "print(winedata.shape) # (4898, 12)\n",
    "labels = np.array(winedata[winedata.columns[11]])\n",
    "\n",
    "X = np.array(winedata[winedata.columns[0:11]])\n",
    "N = len(labels)\n",
    "\n",
    "# Find Class Statistics\n",
    "classes, nclass = np.unique(labels, return_counts = True)\n",
    "C = len(classes)\n",
    "priors = nclass/N\n",
    "class_means = np.array([np.mean(X[np.argwhere(labels == c)], axis = 0) for c in classes])\n",
    "class_cov = np.array([np.cov(X[labels == c].T) for c in classes])\n",
    "# print(class_cov[4])\n",
    "# Regularization\n",
    "evals, _ = np.linalg.eig(np.cov(X.T))\n",
    "reg = np.mean(evals)\n",
    "print(reg)\n",
    "\n",
    "# Minimum Error Classification\n",
    "mu = class_means.reshape(C,11)\n",
    "Sigma = class_cov + reg*np.identity(11)\n",
    "\n",
    "class_cond_likelihoods = np.array([multivariate_normal.pdf(X, mu[c], Sigma[c]) for c in range(C)])\n",
    "class_priors = np.diag(priors)\n",
    "class_posteriors = class_priors.dot(class_cond_likelihoods)\n",
    "\n",
    "decisions = np.argmax(class_posteriors, axis = 0) + np.min(classes)*np.ones(N) # account for classes starting from 3\n",
    "\n",
    "print(decisions.shape)\n",
    "print(labels.shape)\n",
    "\n",
    "conf_matrix = confusion_matrix(decisions, labels)\n",
    "print(conf_matrix)\n",
    "\n",
    "errors = len(np.argwhere(decisions != labels))\n",
    "print('Errors', errors, \"Est P(error)\", errors/N)\n"
   ]
  }
 ],
 "metadata": {
  "interpreter": {
   "hash": "17b4c01959b763961e65029bfd8cfa288ed8d0492d779c607a82e02daf2d74ec"
  },
  "kernelspec": {
   "display_name": "Python 3.9.12 ('base')",
   "language": "python",
   "name": "python3"
  },
  "language_info": {
   "codemirror_mode": {
    "name": "ipython",
    "version": 3
   },
   "file_extension": ".py",
   "mimetype": "text/x-python",
   "name": "python",
   "nbconvert_exporter": "python",
   "pygments_lexer": "ipython3",
   "version": "3.9.12"
  },
  "orig_nbformat": 4
 },
 "nbformat": 4,
 "nbformat_minor": 2
}
