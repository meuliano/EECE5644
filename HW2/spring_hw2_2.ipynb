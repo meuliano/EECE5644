{
 "cells": [
  {
   "cell_type": "code",
   "execution_count": 1,
   "metadata": {},
   "outputs": [],
   "source": [
    "import numpy as np\n",
    "import pandas as pd\n",
    "from numpy.matlib import repmat\n",
    "import matplotlib.pyplot as plt\n",
    "# from scipy.stats import multivariate_normal\n",
    "from numpy.linalg import norm"
   ]
  },
  {
   "cell_type": "code",
   "execution_count": 2,
   "metadata": {},
   "outputs": [],
   "source": [
    "def create_y(x,w):\n",
    "\treturn(w[0]*pow(x,3) + w[1]*pow(x,2) + w[2]*x + w[3])"
   ]
  },
  {
   "cell_type": "code",
   "execution_count": 3,
   "metadata": {},
   "outputs": [],
   "source": [
    "def l2_square(wt,wm):\n",
    "\ta = pow(wt[0,0] - wm[0,0],2)\n",
    "\tb = pow(wt[1,0] - wm[1,0],2)\n",
    "\tc = pow(wt[2,0] - wm[2,0],2)\n",
    "\td = pow(wt[3,0] - wm[3,0],2)\n",
    "\tl2err = a+b+c+d\n",
    "\treturn(l2err)"
   ]
  },
  {
   "cell_type": "code",
   "execution_count": 8,
   "metadata": {},
   "outputs": [],
   "source": [
    "def create_dataset():\n",
    "\tx = np.random.uniform(-1,1,10).reshape((10,1))\n",
    "\tnoise = np.random.normal(0,0.1,10).reshape((10,1))\n",
    "\tz = np.c_[pow(x,3),pow(x,2),pow(x,1),pow(x,0)].T\n",
    "\tZ = np.zeros((4,4,10))\n",
    "\tfor i in range(10):\n",
    "\t\tZ[:,:,i] = z[:,i].reshape((4,1))*z[:,i].reshape((4,1)).T\n",
    "\ty = create_y(x,w_true) + noise\n",
    "\treturn(y,Z,z)"
   ]
  },
  {
   "cell_type": "code",
   "execution_count": 9,
   "metadata": {},
   "outputs": [
    {
     "data": {
      "image/png": "[encoded data removed]",
      "text/plain": [
       "<Figure size 432x288 with 1 Axes>"
      ]
     },
     "metadata": {
      "needs_background": "light"
     },
     "output_type": "display_data"
    }
   ],
   "source": [
    "# np.random.seed(1)\n",
    "# noise = np.random.normal(0,0.1,10).reshape((10,1))\n",
    "# w_true = np.random.multivariate_normal(np.zeros((4)),0.01 *np.identity(4),1).T\n",
    "w_true = np.array(([1, -0.8,-0.15,0.035])).reshape((4,1))\n",
    "# x = np.random.uniform(-1,1,10).reshape((10,1))\n",
    "\n",
    "gamma_list = []\n",
    "for i in np.logspace(-10,10,100):\n",
    "\tgamma_list.append(i)\n",
    "\n",
    "l2_summary = np.zeros((100,len(gamma_list)))\n",
    "stats_l2 = np.zeros((5,len(gamma_list)))\n",
    "# L2 = []\n",
    "for i in range(100):\n",
    "\tL2 = []\n",
    "\ty,Z,z = create_dataset()\n",
    "\tfor gamma in gamma_list:\n",
    "\t\tw_map = np.dot(np.linalg.inv(np.sum(Z,axis=2) + (0.01/pow(gamma,2) *np.identity(4))),np.sum((repmat(y.T,4,1) * z),axis=1)).reshape((4,1))\n",
    "\t\tL2.append(pow(norm(w_true-w_map),2))\n",
    "\n",
    "\tl2_summary[i,:] = L2\n",
    "\n",
    "for j in range(len(gamma_list)):\n",
    "\tstats_l2[:,j] = [np.min(l2_summary[:,j]),np.percentile(l2_summary[:,j],25),np.percentile(l2_summary[:,j],50),np.percentile(l2_summary[:,j],75),np.max(l2_summary[:,j])]\n",
    "\n",
    "\n",
    "# In[717]:\n",
    "plt.plot(gamma_list,stats_l2[0,:],label = 'Mininum')\n",
    "plt.plot(gamma_list,stats_l2[1,:],label = '25%')\n",
    "plt.plot(gamma_list,stats_l2[2,:],label = 'Median')\n",
    "plt.plot(gamma_list,stats_l2[3,:],label = '75%')\n",
    "plt.plot(gamma_list,stats_l2[4,:],label = 'Maximum')\n",
    "plt.legend()\n",
    "plt.xlabel('Gamma value varying from 10^-10 to 10^10')\n",
    "plt.ylabel('Squared - L2 norm')\n",
    "plt.yscale(value = 'log')\n",
    "plt.xscale(value = 'log')\n",
    "plt.rcParams['figure.figsize'] = [10,6]\n",
    "plt.show()\n"
   ]
  },
  {
   "cell_type": "code",
   "execution_count": null,
   "metadata": {},
   "outputs": [],
   "source": []
  }
 ],
 "metadata": {
  "interpreter": {
   "hash": "17b4c01959b763961e65029bfd8cfa288ed8d0492d779c607a82e02daf2d74ec"
  },
  "kernelspec": {
   "display_name": "Python 3.9.12 ('base')",
   "language": "python",
   "name": "python3"
  },
  "language_info": {
   "codemirror_mode": {
    "name": "ipython",
    "version": 3
   },
   "file_extension": ".py",
   "mimetype": "text/x-python",
   "name": "python",
   "nbconvert_exporter": "python",
   "pygments_lexer": "ipython3",
   "version": "3.9.12"
  },
  "orig_nbformat": 4
 },
 "nbformat": 4,
 "nbformat_minor": 2
}
