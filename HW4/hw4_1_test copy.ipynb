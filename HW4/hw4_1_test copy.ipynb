{
 "cells": [
  {
   "cell_type": "code",
   "execution_count": null,
   "metadata": {},
   "outputs": [],
   "source": [
    "import numpy as np\n",
    "import math\n",
    "import matplotlib.pyplot as plt\n",
    "import matplotlib.cm as cm"
   ]
  },
  {
   "cell_type": "code",
   "execution_count": null,
   "metadata": {},
   "outputs": [],
   "source": [
    "def generateMultiringDataset(numberOfClasses,numberOfSamples):\n",
    "    C = numberOfClasses\n",
    "    N = numberOfSamples\n",
    "    \n",
    "    #Generates N samples from C ring-shaped \n",
    "    #class-conditional pdfs with equal priors\n",
    "    \n",
    "    #Randomly determine class labels for each sample\n",
    "    thr = np.linspace(0.0, 1.0, num=C+1) #split [0,1] into C equal length intervals\n",
    "    u = np.random.rand(1, N) # generate N samples uniformly random in [0,1]\n",
    "    labels = np.zeros((1,N))\n",
    "    \n",
    "    for l in range(C):\n",
    "        ind_l = np.where((thr[l]<u) & (u<=thr[l+1]))\n",
    "        labels[ind_l] = np.tile(l,(1,len(ind_l[0])))\n",
    "    \n",
    "    # parameters of the Gamma pdf needed later\n",
    "    a = [pow(i, 2.5) for i in list(range(1,C+1))]\n",
    "    b = np.tile(1.7, C)\n",
    "    \n",
    "    #Generate data from appropriate rings\n",
    "    #radius is drawn from Gamma(a,b), angle is uniform in [0,2pi]\n",
    "    angle = 2*math.pi*np.random.rand(1,N)\n",
    "    radius = np.zeros((1,N)) # reserve space\n",
    "    \n",
    "    for l in range(C):\n",
    "        ind_l = np.where(labels==l)\n",
    "        radius[ind_l] = np.random.gamma(a[l], b[l], len(ind_l[0]))\n",
    "        \n",
    "    data = np.vstack((np.multiply(radius,np.cos(angle)), np.multiply(radius,np.sin(angle))))\n",
    "    \n",
    "    colors = iter(cm.rainbow(np.linspace(0, 1, C)))\n",
    "    plt.figure()\n",
    "    for l in range(C):\n",
    "        ind_l = np.where(labels==l)[1]\n",
    "        plt.scatter(data[0,ind_l], data[1,ind_l], color=next(colors), s=1)\n",
    "    \n",
    "    return data,labels\n",
    "\n"
   ]
  }
 ],
 "metadata": {
  "language_info": {
   "name": "python"
  },
  "orig_nbformat": 4
 },
 "nbformat": 4,
 "nbformat_minor": 2
}
